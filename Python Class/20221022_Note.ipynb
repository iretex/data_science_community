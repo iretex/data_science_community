{
 "cells": [
  {
   "cell_type": "code",
   "execution_count": 1,
   "metadata": {},
   "outputs": [],
   "source": [
    "import keyword"
   ]
  },
  {
   "cell_type": "code",
   "execution_count": 3,
   "metadata": {},
   "outputs": [
    {
     "name": "stdout",
     "output_type": "stream",
     "text": [
      "['False', 'None', 'True', 'and', 'as', 'assert', 'async', 'await', 'break', 'class', 'continue', 'def', 'del', 'elif', 'else', 'except', 'finally', 'for', 'from', 'global', 'if', 'import', 'in', 'is', 'lambda', 'nonlocal', 'not', 'or', 'pass', 'raise', 'return', 'try', 'while', 'with', 'yield']\n"
     ]
    }
   ],
   "source": [
    "print(keyword.kwlist)"
   ]
  },
  {
   "cell_type": "code",
   "execution_count": 4,
   "metadata": {},
   "outputs": [
    {
     "data": {
      "text/plain": [
       "35"
      ]
     },
     "execution_count": 4,
     "metadata": {},
     "output_type": "execute_result"
    }
   ],
   "source": [
    "len(keyword.kwlist)"
   ]
  },
  {
   "cell_type": "code",
   "execution_count": 9,
   "metadata": {},
   "outputs": [],
   "source": [
    "val = 10"
   ]
  },
  {
   "cell_type": "code",
   "execution_count": 15,
   "metadata": {},
   "outputs": [
    {
     "ename": "SyntaxError",
     "evalue": "invalid syntax. Maybe you meant '==' or ':=' instead of '='? (2035343625.py, line 1)",
     "output_type": "error",
     "traceback": [
      "\u001b[1;36m  Cell \u001b[1;32mIn [15], line 1\u001b[1;36m\u001b[0m\n\u001b[1;33m    @var2 = 22\u001b[0m\n\u001b[1;37m     ^\u001b[0m\n\u001b[1;31mSyntaxError\u001b[0m\u001b[1;31m:\u001b[0m invalid syntax. Maybe you meant '==' or ':=' instead of '='?\n"
     ]
    }
   ],
   "source": [
    "@var2 = 22"
   ]
  },
  {
   "cell_type": "code",
   "execution_count": 16,
   "metadata": {},
   "outputs": [
    {
     "ename": "SyntaxError",
     "evalue": "invalid syntax (2342367045.py, line 1)",
     "output_type": "error",
     "traceback": [
      "\u001b[1;36m  Cell \u001b[1;32mIn [16], line 1\u001b[1;36m\u001b[0m\n\u001b[1;33m    import = 2022\u001b[0m\n\u001b[1;37m           ^\u001b[0m\n\u001b[1;31mSyntaxError\u001b[0m\u001b[1;31m:\u001b[0m invalid syntax\n"
     ]
    }
   ],
   "source": [
    "import = 2022"
   ]
  },
  {
   "cell_type": "code",
   "execution_count": 17,
   "metadata": {},
   "outputs": [],
   "source": [
    "# This is a comment"
   ]
  },
  {
   "cell_type": "code",
   "execution_count": 18,
   "metadata": {},
   "outputs": [],
   "source": [
    "# Assign age to value 25\n",
    "age = 25"
   ]
  },
  {
   "cell_type": "code",
   "execution_count": 19,
   "metadata": {},
   "outputs": [],
   "source": [
    "# Multiple line comment\n",
    "# This is comment 1\n",
    "# This is the next one"
   ]
  },
  {
   "cell_type": "code",
   "execution_count": 20,
   "metadata": {},
   "outputs": [
    {
     "data": {
      "text/plain": [
       "'\\nThis is another \\nway of writing a \\nmultiple line comment\\n'"
      ]
     },
     "execution_count": 20,
     "metadata": {},
     "output_type": "execute_result"
    }
   ],
   "source": [
    "\"\"\"\n",
    "This is another \n",
    "way of writing a \n",
    "multiple line comment\n",
    "\"\"\""
   ]
  },
  {
   "cell_type": "markdown",
   "metadata": {},
   "source": [
    "Statement"
   ]
  },
  {
   "cell_type": "markdown",
   "metadata": {},
   "source": [
    "### Arithmetic Operators\n",
    "- ``+`` Addition\n",
    "- ``-`` Subtraction\n",
    "- ``*`` Multiplication\n",
    "- ``/`` Division\n",
    "- ``%`` Mod (reminder of a division operation)\n",
    "- `**` Exponent\n",
    "- `//` floor operator (rounds down the result of a division operation to the newarest whole number value)"
   ]
  },
  {
   "cell_type": "code",
   "execution_count": 24,
   "metadata": {},
   "outputs": [
    {
     "name": "stdout",
     "output_type": "stream",
     "text": [
      "+ operator with numbers:  30\n",
      "+ operator with strings:  Today is Saturday\n"
     ]
    }
   ],
   "source": [
    "var1 = 10\n",
    "var2 = 20\n",
    "\n",
    "result = var1 + var2\n",
    "print(\"+ operator with numbers: \", result)\n",
    "\n",
    "var1 = \"Today is \"\n",
    "var2 = \"Saturday\"\n",
    "print(\"+ operator with strings: \", var1 + var2)"
   ]
  },
  {
   "cell_type": "code",
   "execution_count": 21,
   "metadata": {},
   "outputs": [],
   "source": [
    "area_of_rectangle = 10 * 20"
   ]
  },
  {
   "cell_type": "code",
   "execution_count": 30,
   "metadata": {},
   "outputs": [
    {
     "data": {
      "text/plain": [
       "'******************************'"
      ]
     },
     "execution_count": 30,
     "metadata": {},
     "output_type": "execute_result"
    }
   ],
   "source": [
    "# * operator with strings\n",
    "'*' * 30"
   ]
  },
  {
   "cell_type": "code",
   "execution_count": 35,
   "metadata": {},
   "outputs": [
    {
     "data": {
      "text/plain": [
       "6"
      ]
     },
     "execution_count": 35,
     "metadata": {},
     "output_type": "execute_result"
    }
   ],
   "source": [
    "# Modulus operation\n",
    "30 % 12"
   ]
  },
  {
   "cell_type": "code",
   "execution_count": 39,
   "metadata": {},
   "outputs": [
    {
     "data": {
      "text/plain": [
       "8"
      ]
     },
     "execution_count": 39,
     "metadata": {},
     "output_type": "execute_result"
    }
   ],
   "source": [
    "# Exponentiation\n",
    "# 2**3\n",
    "2*2*2"
   ]
  },
  {
   "cell_type": "code",
   "execution_count": 43,
   "metadata": {},
   "outputs": [
    {
     "data": {
      "text/plain": [
       "7"
      ]
     },
     "execution_count": 43,
     "metadata": {},
     "output_type": "execute_result"
    }
   ],
   "source": [
    "# Floor operator\n",
    "\n",
    "30 // 4"
   ]
  },
  {
   "cell_type": "code",
   "execution_count": null,
   "metadata": {},
   "outputs": [],
   "source": [
    "# Escape character\n",
    "3 \\ \n",
    "4"
   ]
  },
  {
   "cell_type": "code",
   "execution_count": 49,
   "metadata": {},
   "outputs": [
    {
     "name": "stdout",
     "output_type": "stream",
     "text": [
      "Tiles needed:  98\n",
      "Leftover Tiles:  4\n"
     ]
    }
   ],
   "source": [
    "# Example of Arithmentic Operation in Python\n",
    "\n",
    "'''\n",
    "Two parts of a floor need tiling. One part is 9 tiles wide by 7 tiles long, \n",
    "the other is 5 tiles wide by 7 tiles long. Tiles come in packages of 6.\n",
    "\n",
    "How many tiles are needed?\n",
    "You buy 17 packages of tiles containing 6 tiles each. How many tiles will be left over?\n",
    "'''\n",
    "\n",
    "tiles_needed = (9 * 7) + (5 * 7)\n",
    "left_over = (17 * 6) - tiles_needed\n",
    "\n",
    "print(\"Tiles needed: \", tiles_needed)\n",
    "print(\"Leftover Tiles: \", left_over)"
   ]
  },
  {
   "cell_type": "code",
   "execution_count": 50,
   "metadata": {},
   "outputs": [],
   "source": [
    "# Variable Assignement\n",
    "a = 4\n",
    "b = 3\n",
    "c = 9"
   ]
  },
  {
   "cell_type": "code",
   "execution_count": 53,
   "metadata": {},
   "outputs": [],
   "source": [
    "a, b, c = 4, 8, 9"
   ]
  },
  {
   "cell_type": "code",
   "execution_count": 54,
   "metadata": {},
   "outputs": [
    {
     "data": {
      "text/plain": [
       "8"
      ]
     },
     "execution_count": 54,
     "metadata": {},
     "output_type": "execute_result"
    }
   ],
   "source": [
    "b"
   ]
  },
  {
   "cell_type": "markdown",
   "metadata": {},
   "source": [
    "Assignment Operator\n",
    "\n",
    "- ``=`` Assigment Operator\n",
    "- ``+=`` Increment Operator\n",
    "- ``-=`` Decrement Operator\n",
    "- ``*=`` Multiplier Operator\n",
    "\n",
    "Comparison Operators\n",
    "- ``==`` Equality Operator\n",
    "- ``<`` Less than\n",
    "- ``>`` Greater than\n",
    "- ``<=`` Less or Equal\n",
    "- ``>=`` Greater or Equal\n",
    "- ``!=`` Not Equal\n",
    "Logical Operators\n",
    "- ``and`` Logical and - \"&\"\n",
    "- ``or`` Logical Or - \"|\"\n",
    "- ``not`` inverse "
   ]
  },
  {
   "cell_type": "code",
   "execution_count": 64,
   "metadata": {},
   "outputs": [
    {
     "data": {
      "text/plain": [
       "5153632"
      ]
     },
     "execution_count": 64,
     "metadata": {},
     "output_type": "execute_result"
    }
   ],
   "source": [
    "day = 22\n",
    "day **= 5 # day = day + 1\n",
    "# day = day + 1\n",
    "day"
   ]
  },
  {
   "cell_type": "markdown",
   "metadata": {},
   "source": [
    "### Data Types"
   ]
  },
  {
   "cell_type": "code",
   "execution_count": 68,
   "metadata": {},
   "outputs": [
    {
     "data": {
      "text/plain": [
       "True"
      ]
     },
     "execution_count": 68,
     "metadata": {},
     "output_type": "execute_result"
    }
   ],
   "source": [
    "# Integers and Float\n",
    "\n",
    "type(7 == 8)\n",
    "\n",
    "7 <= 8"
   ]
  },
  {
   "cell_type": "code",
   "execution_count": 73,
   "metadata": {},
   "outputs": [
    {
     "data": {
      "text/plain": [
       "False"
      ]
     },
     "execution_count": 73,
     "metadata": {},
     "output_type": "execute_result"
    }
   ],
   "source": [
    "\"Integer\" < \"Float\""
   ]
  },
  {
   "cell_type": "code",
   "execution_count": 78,
   "metadata": {},
   "outputs": [
    {
     "data": {
      "text/plain": [
       "\"today's is saturday\""
      ]
     },
     "execution_count": 78,
     "metadata": {},
     "output_type": "execute_result"
    }
   ],
   "source": [
    "# Strings\n",
    "\n",
    "string1 = 'This is a string in single quote'\n",
    "string2 = \"This is a string in a double quote\"\n",
    "\n",
    "another_string = 'today\\'s is saturday'\n",
    "another_string"
   ]
  },
  {
   "cell_type": "code",
   "execution_count": 90,
   "metadata": {},
   "outputs": [
    {
     "data": {
      "text/plain": [
       "'Index is: 1'"
      ]
     },
     "execution_count": 90,
     "metadata": {},
     "output_type": "execute_result"
    }
   ],
   "source": [
    "# f-string\n",
    "index = 1\n",
    "f\"Index is: {index}\""
   ]
  },
  {
   "cell_type": "code",
   "execution_count": 92,
   "metadata": {},
   "outputs": [
    {
     "data": {
      "text/plain": [
       "'Index is: 1'"
      ]
     },
     "execution_count": 92,
     "metadata": {},
     "output_type": "execute_result"
    }
   ],
   "source": [
    "# without an f-string\n",
    "\"Index is: \" + str(index)"
   ]
  },
  {
   "cell_type": "code",
   "execution_count": 89,
   "metadata": {},
   "outputs": [
    {
     "name": "stdout",
     "output_type": "stream",
     "text": [
      "My String:  This is a string in single quote\n",
      "Index -3 is:  o\n"
     ]
    }
   ],
   "source": [
    "print(\"My String: \", string1)\n",
    "index = -3\n",
    "print(f\"Index {index} is: \", string1[index])"
   ]
  },
  {
   "cell_type": "code",
   "execution_count": 82,
   "metadata": {},
   "outputs": [
    {
     "data": {
      "text/plain": [
       "32"
      ]
     },
     "execution_count": 82,
     "metadata": {},
     "output_type": "execute_result"
    }
   ],
   "source": [
    "len(string1)"
   ]
  },
  {
   "cell_type": "code",
   "execution_count": 106,
   "metadata": {},
   "outputs": [
    {
     "name": "stdout",
     "output_type": "stream",
     "text": [
      "This is a string in single quote\n",
      " Slice of 3 to 32 is:  s is a string in single quote\n"
     ]
    }
   ],
   "source": [
    "# String Slicing\n",
    "\n",
    "start_index = 3\n",
    "end_index = 32\n",
    "print(string1 + \"\\n\", f\"Slice of {start_index} to {end_index} is: \", string1[start_index:end_index])"
   ]
  },
  {
   "cell_type": "code",
   "execution_count": 127,
   "metadata": {},
   "outputs": [
    {
     "name": "stdout",
     "output_type": "stream",
     "text": [
      "Capitalize\n",
      " string_one\n",
      " String_one\n",
      "Upper\n",
      " string_one\n",
      " STRING_ONE\n",
      "Lower\n",
      " string_one\n",
      " string_one\n",
      "Count\n",
      " string_one\n",
      " 2\n",
      "FInd\n",
      " string_one\n",
      " 5\n"
     ]
    }
   ],
   "source": [
    "# Other String Methods\n",
    "string1 = 'string_one'\n",
    "print(\"Capitalize\\n\", string1+\"\\n\", string1.capitalize())\n",
    "print(\"Upper\\n\", string1+\"\\n\", string1.upper())\n",
    "print(\"Lower\\n\", string1+\"\\n\", string1.lower())\n",
    "print(\"Count\\n\", string1+\"\\n\", string1.count('n'))\n",
    "print(\"FInd\\n\", string1+\"\\n\", string1.find('g'))\n"
   ]
  },
  {
   "cell_type": "code",
   "execution_count": 142,
   "metadata": {},
   "outputs": [
    {
     "name": "stdout",
     "output_type": "stream",
     "text": [
      "Number in 2 decimals 2.026\n",
      " Number in 1 decimal 2.03\n"
     ]
    }
   ],
   "source": [
    "# string format method\n",
    "\n",
    "string = \"Number in 2 decimals {:.4}\\n Number in 1 decimal {:.3}\"\n",
    "print(string.format(2.026475,2.026475))"
   ]
  },
  {
   "cell_type": "code",
   "execution_count": 143,
   "metadata": {},
   "outputs": [
    {
     "data": {
      "text/plain": [
       "['This', 'is', 'a', 'string', 'in', 'single', 'quote']"
      ]
     },
     "execution_count": 143,
     "metadata": {},
     "output_type": "execute_result"
    }
   ],
   "source": [
    "# Split\n",
    "\n",
    "string = 'This is a string in single quote'\n",
    "string.split()"
   ]
  },
  {
   "cell_type": "code",
   "execution_count": 151,
   "metadata": {},
   "outputs": [
    {
     "data": {
      "text/plain": [
       "'This * is * a * string * in * single * quote * 250'"
      ]
     },
     "execution_count": 151,
     "metadata": {},
     "output_type": "execute_result"
    }
   ],
   "source": [
    "# String Join\n",
    "word_list = ['This', 'is', 'a', 'string', 'in', 'single', 'quote', '250']\n",
    "\" * \".join(word_list)"
   ]
  },
  {
   "cell_type": "code",
   "execution_count": 122,
   "metadata": {},
   "outputs": [
    {
     "data": {
      "text/plain": [
       "True"
      ]
     },
     "execution_count": 122,
     "metadata": {},
     "output_type": "execute_result"
    }
   ],
   "source": [
    "# Type Casting / Type Conversion\n",
    "\n",
    "var1 = -1\n",
    "var2 = 1.0\n",
    "var3 = \"string\"\n",
    "var4 = False\n",
    "\n",
    "# type(var1*var2)\n",
    "# float(var)\n",
    "int(var2)\n",
    "\n",
    "str(var2)\n",
    "\n",
    "int(var4)\n",
    "\n",
    "bool(var1)"
   ]
  }
 ],
 "metadata": {
  "kernelspec": {
   "display_name": "Python 3",
   "language": "python",
   "name": "python3"
  },
  "language_info": {
   "codemirror_mode": {
    "name": "ipython",
    "version": 3
   },
   "file_extension": ".py",
   "mimetype": "text/x-python",
   "name": "python",
   "nbconvert_exporter": "python",
   "pygments_lexer": "ipython3",
   "version": "3.10.8 (tags/v3.10.8:aaaf517, Oct 11 2022, 16:50:30) [MSC v.1933 64 bit (AMD64)]"
  },
  "orig_nbformat": 4,
  "vscode": {
   "interpreter": {
    "hash": "620e5aca6dfc262dbbf3b8c44d5cccefd9ee684e03e6a97d0516e66a516bcd4e"
   }
  }
 },
 "nbformat": 4,
 "nbformat_minor": 2
}
