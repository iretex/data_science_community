{
 "cells": [
  {
   "cell_type": "markdown",
   "metadata": {},
   "source": [
    "### Function\n",
    "\n",
    "A function is a container that helps to re-use a block of code that is repeated in a code-base.\n",
    "\n",
    "- Defining Functions\n",
    "- Variable Scope\n",
    "- Documentation\n",
    "- Lambda Expressions\n",
    "- Iterators and Generators"
   ]
  },
  {
   "cell_type": "code",
   "execution_count": 1,
   "metadata": {},
   "outputs": [
    {
     "data": {
      "text/plain": [
       "119904"
      ]
     },
     "execution_count": 1,
     "metadata": {},
     "output_type": "execute_result"
    }
   ],
   "source": [
    "# Compute the age of 10 students given their date of birth\n",
    "dob = 20101215\n",
    "today = 20221119\n",
    "student_1 = today - dob\n",
    "student_1"
   ]
  },
  {
   "cell_type": "code",
   "execution_count": 14,
   "metadata": {},
   "outputs": [
    {
     "data": {
      "text/plain": [
       "[20000, 30000, 40000, 50000, 60000, 70000, 80000, 90000, 100000, 110000]"
      ]
     },
     "execution_count": 14,
     "metadata": {},
     "output_type": "execute_result"
    }
   ],
   "source": [
    "def age_calculator(dob, today=20221119):\n",
    "    age = today - dob\n",
    "    return age\n",
    "\n",
    "list_of_dob = [20201119] * 10\n",
    "[age_calculator(dob=dob-(i*10000)) for i, dob in enumerate(list_of_dob)]"
   ]
  },
  {
   "cell_type": "code",
   "execution_count": 10,
   "metadata": {},
   "outputs": [
    {
     "data": {
      "text/plain": [
       "-20210999"
      ]
     },
     "execution_count": 10,
     "metadata": {},
     "output_type": "execute_result"
    }
   ],
   "source": [
    "# \"hello\" * 3\n",
    "# list(enumerate([20201119] * 10))\n",
    "age_calculator(dob=20223344, today=12345)"
   ]
  },
  {
   "cell_type": "code",
   "execution_count": 15,
   "metadata": {},
   "outputs": [
    {
     "name": "stdout",
     "output_type": "stream",
     "text": [
      "Hameed Olanrewaju\n"
     ]
    }
   ],
   "source": [
    "def show_full_name(first_name, last_name):\n",
    "    print(first_name+\" \"+last_name)\n",
    "\n",
    "show_full_name(\"Hameed\", \"Olanrewaju\")"
   ]
  },
  {
   "cell_type": "code",
   "execution_count": 26,
   "metadata": {},
   "outputs": [
    {
     "name": "stdout",
     "output_type": "stream",
     "text": [
      "3.14159\n"
     ]
    },
    {
     "data": {
      "text/plain": [
       "201.06176"
      ]
     },
     "execution_count": 26,
     "metadata": {},
     "output_type": "execute_result"
    }
   ],
   "source": [
    "pi = 3.142\n",
    "\n",
    "def area_of_circle(radius=7):\n",
    "    pi = 3.14159\n",
    "    print(pi)\n",
    "    return pi * radius**2\n",
    "\n",
    "area_of_circle(8)"
   ]
  },
  {
   "cell_type": "code",
   "execution_count": 32,
   "metadata": {},
   "outputs": [
    {
     "name": "stdout",
     "output_type": "stream",
     "text": [
      "3.142\n",
      "3.14159\n"
     ]
    },
    {
     "data": {
      "text/plain": [
       "50.26544"
      ]
     },
     "execution_count": 32,
     "metadata": {},
     "output_type": "execute_result"
    }
   ],
   "source": [
    "print(pi)\n",
    "area_of_circle(4)"
   ]
  },
  {
   "cell_type": "code",
   "execution_count": 61,
   "metadata": {},
   "outputs": [
    {
     "data": {
      "text/plain": [
       "217.54379887590824"
      ]
     },
     "execution_count": 61,
     "metadata": {},
     "output_type": "execute_result"
    }
   ],
   "source": [
    "# Example: Write a function named population_density that takes two arguments, population and land_area, and returns a \n",
    "# population density calculated from those values. \n",
    "\n",
    "def population_density(population, land_area):\n",
    "    '''\n",
    "    Calculate the population density of an area\n",
    "\n",
    "    input:\n",
    "    population: int. The population of the area\n",
    "    land_area: int or float. The area in sq km or sk miles\n",
    "\n",
    "    output:\n",
    "    population_density: population/land_area\n",
    "    '''\n",
    "    pop_density = population/land_area\n",
    "    return pop_density\n",
    "\n",
    "population_density(200.96*1000000, 923768)\n"
   ]
  },
  {
   "cell_type": "code",
   "execution_count": 62,
   "metadata": {},
   "outputs": [
    {
     "name": "stdout",
     "output_type": "stream",
     "text": [
      "Help on function population_density in module __main__:\n",
      "\n",
      "population_density(population, land_area)\n",
      "    Calculate the population density of an area\n",
      "    \n",
      "    input:\n",
      "    population: int. The population of the area\n",
      "    land_area: int or float. The area in sq km or sk miles\n",
      "    \n",
      "    output:\n",
      "    population_density: population/land_area\n",
      "\n"
     ]
    }
   ],
   "source": [
    "help(population_density)"
   ]
  },
  {
   "cell_type": "code",
   "execution_count": 42,
   "metadata": {},
   "outputs": [
    {
     "data": {
      "text/plain": [
       "'52 week(s) and 1 day(s).'"
      ]
     },
     "execution_count": 42,
     "metadata": {},
     "output_type": "execute_result"
    }
   ],
   "source": [
    "# Write a function named readable_timedelta. \n",
    "# The function should take one argument, an integer days, and return a string that says how many weeks and days\n",
    "\n",
    "def readable_timedelta(days):\n",
    "    return f\"{days//7} week(s) and {days%7} day(s).\"\n",
    "\n",
    "readable_timedelta(365)"
   ]
  },
  {
   "cell_type": "code",
   "execution_count": 53,
   "metadata": {},
   "outputs": [],
   "source": [
    "egg_count = 0\n",
    "\n",
    "def buy_eggs(quantity, egg_count = 0):\n",
    "    egg_count += quantity\n",
    "    return egg_count"
   ]
  },
  {
   "cell_type": "code",
   "execution_count": 56,
   "metadata": {},
   "outputs": [
    {
     "data": {
      "text/plain": [
       "30"
      ]
     },
     "execution_count": 56,
     "metadata": {},
     "output_type": "execute_result"
    }
   ],
   "source": [
    "egg_count+=buy_eggs(15)\n",
    "\n",
    "egg_count"
   ]
  },
  {
   "cell_type": "markdown",
   "metadata": {},
   "source": [
    "Documentation\n",
    "\n",
    "Documentation is used to make your code easier to understand and use. We documents functions using documentation strings or docstrings."
   ]
  },
  {
   "cell_type": "code",
   "execution_count": 65,
   "metadata": {},
   "outputs": [],
   "source": [
    "# Lambda Expressions\n",
    "\n",
    "def multiply(x, y):\n",
    "    return x*y"
   ]
  },
  {
   "cell_type": "code",
   "execution_count": 66,
   "metadata": {},
   "outputs": [
    {
     "data": {
      "text/plain": [
       "20"
      ]
     },
     "execution_count": 66,
     "metadata": {},
     "output_type": "execute_result"
    }
   ],
   "source": [
    "multiply(4,5)"
   ]
  },
  {
   "cell_type": "code",
   "execution_count": 67,
   "metadata": {},
   "outputs": [],
   "source": [
    "multply_lambda = lambda x, y: x * y"
   ]
  },
  {
   "cell_type": "code",
   "execution_count": 68,
   "metadata": {},
   "outputs": [
    {
     "data": {
      "text/plain": [
       "20"
      ]
     },
     "execution_count": 68,
     "metadata": {},
     "output_type": "execute_result"
    }
   ],
   "source": [
    "multply_lambda(4,5)"
   ]
  },
  {
   "cell_type": "code",
   "execution_count": 69,
   "metadata": {},
   "outputs": [],
   "source": [
    "# Example:\n",
    "\n",
    "numbers = [\n",
    "              [34, 63, 88, 71, 29],\n",
    "              [90, 78, 51, 27, 45],\n",
    "              [63, 37, 85, 46, 22],\n",
    "              [51, 22, 34, 11, 18]\n",
    "           ]"
   ]
  },
  {
   "cell_type": "code",
   "execution_count": 71,
   "metadata": {},
   "outputs": [
    {
     "data": {
      "text/plain": [
       "[57.0, 58.2, 50.6, 27.2]"
      ]
     },
     "execution_count": 71,
     "metadata": {},
     "output_type": "execute_result"
    }
   ],
   "source": [
    "def mean(num_list):\n",
    "    return sum(num_list)/len(num_list)\n",
    "\n",
    "list(map(mean, numbers))"
   ]
  },
  {
   "cell_type": "code",
   "execution_count": 74,
   "metadata": {},
   "outputs": [
    {
     "data": {
      "text/plain": [
       "[57.0, 58.2, 50.6, 27.2]"
      ]
     },
     "execution_count": 74,
     "metadata": {},
     "output_type": "execute_result"
    }
   ],
   "source": [
    "# sum([34, 63, 88, 71, 29])/5\n",
    "list(map(lambda x: sum(x)/len(x), numbers))"
   ]
  },
  {
   "cell_type": "code",
   "execution_count": 75,
   "metadata": {},
   "outputs": [
    {
     "data": {
      "text/plain": [
       "['Enugu', 'Akure', 'Aba']"
      ]
     },
     "execution_count": 75,
     "metadata": {},
     "output_type": "execute_result"
    }
   ],
   "source": [
    "cities = [\"Enugu\", \"Onitsha\", \"Akure\", \"Aba\", \"Akwa-Ibom\"]\n",
    "\n",
    "def short_name(city):\n",
    "    return len(city) < 6\n",
    "\n",
    "list(filter(short_name, cities))"
   ]
  },
  {
   "cell_type": "code",
   "execution_count": 76,
   "metadata": {},
   "outputs": [
    {
     "data": {
      "text/plain": [
       "['Enugu', 'Akure', 'Aba']"
      ]
     },
     "execution_count": 76,
     "metadata": {},
     "output_type": "execute_result"
    }
   ],
   "source": [
    "list(filter(lambda a: len(a) < 6, cities))"
   ]
  }
 ],
 "metadata": {
  "kernelspec": {
   "display_name": "Python 3",
   "language": "python",
   "name": "python3"
  },
  "language_info": {
   "codemirror_mode": {
    "name": "ipython",
    "version": 3
   },
   "file_extension": ".py",
   "mimetype": "text/x-python",
   "name": "python",
   "nbconvert_exporter": "python",
   "pygments_lexer": "ipython3",
   "version": "3.10.8"
  },
  "orig_nbformat": 4,
  "vscode": {
   "interpreter": {
    "hash": "620e5aca6dfc262dbbf3b8c44d5cccefd9ee684e03e6a97d0516e66a516bcd4e"
   }
  }
 },
 "nbformat": 4,
 "nbformat_minor": 2
}
