{
 "cells": [
  {
   "cell_type": "markdown",
   "metadata": {},
   "source": [
    "## Scripting\n",
    "\n",
    "- Python Installation and Environment Setup\n",
    "- Running and Editing Python Scripts\n",
    "- Interacting with User Input\n",
    "- Handling Exceptions\n",
    "- Reading and Writing Files\n",
    "- Importing Local, Standard, and Third-Party Modules\n",
    "- Experimenting with an Interpreter"
   ]
  },
  {
   "cell_type": "code",
   "execution_count": 3,
   "metadata": {},
   "outputs": [
    {
     "name": "stdout",
     "output_type": "stream",
     "text": [
      "Hello Hello Hello Hello Hello \n"
     ]
    }
   ],
   "source": [
    "# Input\n",
    "\n",
    "num = input(\"Enter an integer\")\n",
    "\n",
    "print(\"Hello \" * int(num))"
   ]
  },
  {
   "cell_type": "code",
   "execution_count": 6,
   "metadata": {},
   "outputs": [
    {
     "data": {
      "text/plain": [
       "30"
      ]
     },
     "execution_count": 6,
     "metadata": {},
     "output_type": "execute_result"
    }
   ],
   "source": [
    "def area_of_rectangle(length, width):\n",
    "    return length * width\n",
    "\n",
    "l = input(\"Enter the length\")\n",
    "w = input(\"Enter the width\")\n",
    "\n",
    "area_of_rectangle(int(l), int(w))"
   ]
  },
  {
   "cell_type": "code",
   "execution_count": 10,
   "metadata": {},
   "outputs": [],
   "source": [
    "# eval\n",
    "# A = \"a\"\n",
    "eval(input(\"Enter an expression: \"))\n",
    "\n",
    "# eval(\"2+4*6/3\")\n"
   ]
  },
  {
   "cell_type": "code",
   "execution_count": 11,
   "metadata": {},
   "outputs": [],
   "source": [
    "# Errors and Exceptions\n",
    "\n",
    "# - ValueError\n",
    "# - AssertionError\n",
    "# - IndexError\n",
    "# - KeyError\n",
    "# - TypeError"
   ]
  },
  {
   "cell_type": "markdown",
   "metadata": {},
   "source": [
    "Try and Catch Statement - Used for exception handling\n",
    "\n",
    "- ``try``: the header of a ``try`` statement\n",
    "- ``except`` []: this blocks runs when an [specified] exception occurs\n",
    "- ``else``: this block runs if no exceptions are caught while executing the ``try`` block\n",
    "- ``finally``: this block runs as a final step before python exit the ``try`` statement"
   ]
  },
  {
   "cell_type": "code",
   "execution_count": 18,
   "metadata": {},
   "outputs": [
    {
     "name": "stdout",
     "output_type": "stream",
     "text": [
      "Invalid input\n"
     ]
    }
   ],
   "source": [
    "a = \"error\"\n",
    "try:\n",
    "    a[5]\n",
    "except (IndexError, KeyboardInterrupt):\n",
    "    print(\"Invalid input\")\n",
    "# except IndexError:\n",
    "#     print(\"You have entered a wrong index value\")\n",
    "# except TypeError:\n",
    "#     print(\"Please enter a list or a string value\")"
   ]
  },
  {
   "cell_type": "code",
   "execution_count": 21,
   "metadata": {},
   "outputs": [
    {
     "name": "stdout",
     "output_type": "stream",
     "text": [
      "Invalid input: 'int' object is not subscriptable\n"
     ]
    }
   ],
   "source": [
    "a = 12#\"error\"\n",
    "try:\n",
    "    a[5]\n",
    "except Exception as e:\n",
    "    print(f\"Invalid input: {e}\")"
   ]
  },
  {
   "cell_type": "code",
   "execution_count": 2,
   "metadata": {},
   "outputs": [],
   "source": [
    "# Reading and Writing FIles\n",
    "\n",
    "text_file = open(\"text_file.txt\")\n",
    "\n",
    "file_data = text_file.read()\n",
    "\n",
    "text_file.close()"
   ]
  },
  {
   "cell_type": "code",
   "execution_count": 3,
   "metadata": {},
   "outputs": [
    {
     "data": {
      "text/plain": [
       "'The current population of Nigeria is 218,283,751 as of Saturday, November 19, 2022, based on Worldometer elaboration of the latest United Nations data.\\nNigeria 2020 population is estimated at 206,139,589 people at mid year according to UN data.\\nNigeria population is equivalent to 2.64% of the total world population.\\nNigeria ranks number 7 in the list of countries (and dependencies) by population.\\nThe population density in Nigeria is 226 per Km2 (586 people per mi2).\\nThe total land area is 910,770 Km2 (351,650 sq. miles)\\n52.0 % of the population is urban (107,112,526 people in 2020)\\nThe median age in Nigeria is 18.1 years.'"
      ]
     },
     "execution_count": 3,
     "metadata": {},
     "output_type": "execute_result"
    }
   ],
   "source": [
    "file_data"
   ]
  }
 ],
 "metadata": {
  "kernelspec": {
   "display_name": "Python 3",
   "language": "python",
   "name": "python3"
  },
  "language_info": {
   "codemirror_mode": {
    "name": "ipython",
    "version": 3
   },
   "file_extension": ".py",
   "mimetype": "text/x-python",
   "name": "python",
   "nbconvert_exporter": "python",
   "pygments_lexer": "ipython3",
   "version": "3.10.8"
  },
  "orig_nbformat": 4,
  "vscode": {
   "interpreter": {
    "hash": "620e5aca6dfc262dbbf3b8c44d5cccefd9ee684e03e6a97d0516e66a516bcd4e"
   }
  }
 },
 "nbformat": 4,
 "nbformat_minor": 2
}
