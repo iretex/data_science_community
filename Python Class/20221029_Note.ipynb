{
 "cells": [
  {
   "cell_type": "markdown",
   "metadata": {},
   "source": [
    "# Data Structures\n",
    "\n",
    "- Lists\n",
    "- Tuples\n",
    "- Sets\n",
    "- Dictionaries and \n",
    "- Compound Data Structures"
   ]
  },
  {
   "cell_type": "code",
   "execution_count": 3,
   "metadata": {},
   "outputs": [
    {
     "data": {
      "text/plain": [
       "[1, 'a', [], True, False]"
      ]
     },
     "execution_count": 3,
     "metadata": {},
     "output_type": "execute_result"
    }
   ],
   "source": [
    "# List and Membership Operators\n",
    "\n",
    "list_example_2 = list()\n",
    "\n",
    "list_example = [1, \"a\", list_example_2, True, False] #list()\n",
    "\n",
    "# list_example == list_example_2 # True\n",
    "\n",
    "list_example"
   ]
  },
  {
   "cell_type": "code",
   "execution_count": 6,
   "metadata": {},
   "outputs": [
    {
     "data": {
      "text/plain": [
       "5"
      ]
     },
     "execution_count": 6,
     "metadata": {},
     "output_type": "execute_result"
    }
   ],
   "source": [
    "# length\n",
    "\n",
    "len(list_example)"
   ]
  },
  {
   "cell_type": "code",
   "execution_count": 17,
   "metadata": {},
   "outputs": [
    {
     "name": "stdout",
     "output_type": "stream",
     "text": [
      "Item at index 2 is:  True\n"
     ]
    }
   ],
   "source": [
    "# Indexing list items\n",
    "\n",
    "# Last element\n",
    "index_number = -1#len(list_example)-1\n",
    "initial_list = [1,\"a\", True]\n",
    "reversed_list = [True,\"a\",1]\n",
    "# -3 -2 -1 0 1 2\n",
    "print(f\"Item at index {index_number} is: \", initial_list[index_number])"
   ]
  },
  {
   "cell_type": "code",
   "execution_count": 26,
   "metadata": {},
   "outputs": [
    {
     "data": {
      "text/plain": [
       "['Kano', 'Rivers', 'Kogi', 'Kwara']"
      ]
     },
     "execution_count": 26,
     "metadata": {},
     "output_type": "execute_result"
    }
   ],
   "source": [
    "# List Slicing\n",
    "\n",
    "states = [\"Lagos\", \"Oyo\", \"Kano\", \"Rivers\", \"Kogi\", \"Kwara\"]\n",
    "\n",
    "start_index = 2\n",
    "end_index = 6\n",
    "\n",
    "states[start_index : end_index]"
   ]
  },
  {
   "cell_type": "code",
   "execution_count": 22,
   "metadata": {},
   "outputs": [
    {
     "name": "stdout",
     "output_type": "stream",
     "text": [
      "6\n"
     ]
    }
   ],
   "source": [
    "print(len(states))"
   ]
  },
  {
   "cell_type": "code",
   "execution_count": 30,
   "metadata": {},
   "outputs": [
    {
     "data": {
      "text/plain": [
       "False"
      ]
     },
     "execution_count": 30,
     "metadata": {},
     "output_type": "execute_result"
    }
   ],
   "source": [
    "# `in` and `not in`\n",
    "\n",
    "list_of_numbers = [0, 1, 2, 3, 4]\n",
    "\n",
    "0 not in list_of_numbers"
   ]
  },
  {
   "cell_type": "code",
   "execution_count": 33,
   "metadata": {},
   "outputs": [
    {
     "data": {
      "text/plain": [
       "['01', 'Feb', '03', '04']"
      ]
     },
     "execution_count": 33,
     "metadata": {},
     "output_type": "execute_result"
    }
   ],
   "source": [
    "# Mutability and Order\n",
    "\n",
    "# list_of_months = [\"Jan\", \"Feb\", \"Mar\", \"Apr\"]\n",
    "\n",
    "list_of_months[2] = \"03\"\n",
    "\n",
    "list_of_months"
   ]
  },
  {
   "cell_type": "code",
   "execution_count": 37,
   "metadata": {},
   "outputs": [
    {
     "ename": "TypeError",
     "evalue": "'str' object does not support item assignment",
     "output_type": "error",
     "traceback": [
      "\u001b[1;31m---------------------------------------------------------------------------\u001b[0m",
      "\u001b[1;31mTypeError\u001b[0m                                 Traceback (most recent call last)",
      "Cell \u001b[1;32mIn [37], line 2\u001b[0m\n\u001b[0;32m      1\u001b[0m today \u001b[39m=\u001b[39m \u001b[39m\"\u001b[39m\u001b[39mSaturday\u001b[39m\u001b[39m\"\u001b[39m\n\u001b[1;32m----> 2\u001b[0m today[\u001b[39m0\u001b[39;49m] \u001b[39m=\u001b[39m \u001b[39m\"\u001b[39m\u001b[39m7\u001b[39m\u001b[39m\"\u001b[39m\n",
      "\u001b[1;31mTypeError\u001b[0m: 'str' object does not support item assignment"
     ]
    }
   ],
   "source": [
    "today = \"Saturday\"\n",
    "today[0] = \"7\""
   ]
  },
  {
   "cell_type": "code",
   "execution_count": 40,
   "metadata": {},
   "outputs": [
    {
     "data": {
      "text/plain": [
       "True"
      ]
     },
     "execution_count": 40,
     "metadata": {},
     "output_type": "execute_result"
    }
   ],
   "source": [
    "# Order\n",
    "\n",
    "list_of_years = [2020, 2021, 2022]\n",
    "\n",
    "copy_of_list_of_years = list_of_years\n",
    "\n",
    "copy_of_list_of_years[-1] == list_of_years[-1]"
   ]
  },
  {
   "cell_type": "code",
   "execution_count": 45,
   "metadata": {},
   "outputs": [
    {
     "data": {
      "text/plain": [
       "['November 13, 2012', 'March 20, 2015', 'March 9, 2016']"
      ]
     },
     "execution_count": 45,
     "metadata": {},
     "output_type": "execute_result"
    }
   ],
   "source": [
    "# Example\n",
    "\n",
    "# Select the three most recent dates from the list using list slicing notation\n",
    "\n",
    "eclipse_dates = ['June 21, 2001', 'December 4, 2002', 'November 23, 2003',\n",
    "                 'March 29, 2006', 'August 1, 2008', 'July 22, 2009',\n",
    "                 'July 11, 2010', 'November 13, 2012', 'March 20, 2015',\n",
    "                 'March 9, 2016']\n",
    "\n",
    "start_index = -3\n",
    "# end_index = len(eclipse_dates)\n",
    "\n",
    "eclipse_dates[start_index:]"
   ]
  },
  {
   "cell_type": "markdown",
   "metadata": {},
   "source": [
    "## List Methods\n",
    "\n",
    "- len() - returns the number of elements\n",
    "- max() - returns the greatest element\n",
    "- min() - returns the least element\n",
    "- sorted() - returns a copy of a list ordered from smallest to largest\n",
    "- reversed() - returns the revered order of items in the list\n",
    "- join() - returns list elements joined by specified separator\n",
    "- append() - adds an element to the end of a list and return the new list\n",
    "- extend() - returns a new list with items from the extended list joined to the default list\n"
   ]
  },
  {
   "cell_type": "code",
   "execution_count": 61,
   "metadata": {},
   "outputs": [
    {
     "name": "stdout",
     "output_type": "stream",
     "text": [
      "lenth of list items:  5\n",
      "max of list items:  5\n",
      "min of list items:  1\n",
      "sorted list items:  [1, 2, 3, 4, 5]\n",
      "reversed list items:  <list_reverseiterator object at 0x000001E4EC5DDF30>\n",
      "joined list items:  1**2**3**4**5\n",
      "append new list items:  None\n"
     ]
    },
    {
     "data": {
      "text/plain": [
       "['1', '2', '3', '4', '5', True]"
      ]
     },
     "execution_count": 61,
     "metadata": {},
     "output_type": "execute_result"
    }
   ],
   "source": [
    "list_of_numbers = [1,2,3,4,5]\n",
    "list_of_str = list(map(str, list_of_numbers))\n",
    "\n",
    "print(\"lenth of list items: \" , len(list_of_numbers))\n",
    "print(\"max of list items: \" , max(list_of_numbers))\n",
    "print(\"min of list items: \" , min(list_of_numbers))\n",
    "print(\"sorted list items: \" , sorted(list_of_numbers))\n",
    "print(\"reversed list items: \" , reversed(list_of_numbers))\n",
    "print(\"joined list items: \" , \"**\".join(list_of_str))\n",
    "print(\"append new list items: \" , list_of_str.append(True))\n",
    "list_of_str"
   ]
  },
  {
   "cell_type": "code",
   "execution_count": 66,
   "metadata": {},
   "outputs": [
    {
     "name": "stdout",
     "output_type": "stream",
     "text": [
      "Appended List:  ['Jan', 'Feb', 'Mar', ['Apr', 'May', 'Jun']]\n",
      "Extend List:  ['Jan', 'Feb', 'Mar', 'Apr', 'May', 'Jun']\n"
     ]
    }
   ],
   "source": [
    "q1 = [\"Jan\", \"Feb\", \"Mar\"]\n",
    "q2 = [\"Apr\", \"May\", \"Jun\"]\n",
    "\n",
    "q1.append(q2)\n",
    "\n",
    "print(\"Appended List: \", q1)\n",
    "\n",
    "q1 = [\"Jan\", \"Feb\", \"Mar\"]\n",
    "q1.extend(q2)\n",
    "\n",
    "print(\"Extend List: \", q1)\n"
   ]
  },
  {
   "cell_type": "code",
   "execution_count": 72,
   "metadata": {},
   "outputs": [
    {
     "name": "stdout",
     "output_type": "stream",
     "text": [
      "First Name:  Hameed\n",
      "Last Name:  Olanrewaju\n"
     ]
    }
   ],
   "source": [
    "# Tuples\n",
    "\n",
    "tuple_example = () # tuple()\n",
    "another_tuple = tuple()\n",
    "\n",
    "# tuple_example == another_tuple\n",
    "\n",
    "tuple_example = \"Hameed\", \"Olanrewaju\"\n",
    "\n",
    "print(\"First Name: \",tuple_example[0])\n",
    "print(\"Last Name: \",tuple_example[1])"
   ]
  },
  {
   "cell_type": "code",
   "execution_count": 71,
   "metadata": {},
   "outputs": [
    {
     "ename": "TypeError",
     "evalue": "'tuple' object does not support item assignment",
     "output_type": "error",
     "traceback": [
      "\u001b[1;31m---------------------------------------------------------------------------\u001b[0m",
      "\u001b[1;31mTypeError\u001b[0m                                 Traceback (most recent call last)",
      "Cell \u001b[1;32mIn [71], line 2\u001b[0m\n\u001b[0;32m      1\u001b[0m \u001b[39m# Tuple are immutable\u001b[39;00m\n\u001b[1;32m----> 2\u001b[0m tuple_example[\u001b[39m0\u001b[39;49m] \u001b[39m=\u001b[39m \u001b[39m\"\u001b[39m\u001b[39mBilly\u001b[39m\u001b[39m\"\u001b[39m\n",
      "\u001b[1;31mTypeError\u001b[0m: 'tuple' object does not support item assignment"
     ]
    }
   ],
   "source": [
    "# Tuple are immutable\n",
    "tuple_example[0] = \"Billy\""
   ]
  },
  {
   "cell_type": "code",
   "execution_count": 74,
   "metadata": {},
   "outputs": [
    {
     "name": "stdout",
     "output_type": "stream",
     "text": [
      "The dimensions are 10 X 20 X 50\n"
     ]
    }
   ],
   "source": [
    "dimensions = (10, 20, 50)\n",
    "\n",
    "length, bredth, height = dimensions\n",
    "\n",
    "print(f\"The dimensions are {length} X {bredth} X {height}\")"
   ]
  },
  {
   "cell_type": "code",
   "execution_count": 80,
   "metadata": {},
   "outputs": [
    {
     "name": "stdout",
     "output_type": "stream",
     "text": [
      "List:  [5, 2, 3, 4, 5, 1, 2]\n",
      "Set:  {1, 2, 3, 4, 5}\n"
     ]
    }
   ],
   "source": [
    "# Sets\n",
    "\n",
    "set_example = {}* # set()\n",
    "\n",
    "list_of_numbers = [5,2,3,4,5, 1, 2]\n",
    "\n",
    "set_of_numbers = set(list_of_numbers)\n",
    "\n",
    "print(\"List: \",list_of_numbers)\n",
    "print(\"Set: \",set_of_numbers)"
   ]
  },
  {
   "cell_type": "code",
   "execution_count": 154,
   "metadata": {},
   "outputs": [
    {
     "data": {
      "text/plain": [
       "False"
      ]
     },
     "execution_count": 154,
     "metadata": {},
     "output_type": "execute_result"
    }
   ],
   "source": [
    "set_example = {}\n",
    "\n",
    "set_example == set()"
   ]
  },
  {
   "cell_type": "code",
   "execution_count": 83,
   "metadata": {},
   "outputs": [
    {
     "data": {
      "text/plain": [
       "False"
      ]
     },
     "execution_count": 83,
     "metadata": {},
     "output_type": "execute_result"
    }
   ],
   "source": [
    "# `in` and `not in` operations\n",
    "\n",
    "5 not in set_of_numbers"
   ]
  },
  {
   "cell_type": "code",
   "execution_count": 87,
   "metadata": {},
   "outputs": [
    {
     "data": {
      "text/plain": [
       "{2, 3, 4, 5, 10}"
      ]
     },
     "execution_count": 87,
     "metadata": {},
     "output_type": "execute_result"
    }
   ],
   "source": [
    "# adding and removing elements\n",
    "\n",
    "# adding a new element\n",
    "set_of_numbers.add(10)\n",
    "\n",
    "# removing an element\n",
    "set_of_numbers.pop()\n",
    "\n",
    "set_of_numbers"
   ]
  },
  {
   "cell_type": "code",
   "execution_count": 88,
   "metadata": {},
   "outputs": [
    {
     "data": {
      "text/plain": [
       "[1, 2, 3, 4, 5, 7]"
      ]
     },
     "execution_count": 88,
     "metadata": {},
     "output_type": "execute_result"
    }
   ],
   "source": [
    "list_items = [1,1,3,2,2,4,5,4,7]\n",
    "\n",
    "list(set(list_items))"
   ]
  },
  {
   "cell_type": "code",
   "execution_count": 96,
   "metadata": {},
   "outputs": [
    {
     "data": {
      "text/plain": [
       "{'Name_1': 'Billy', 'Name_2': 'Hameed'}"
      ]
     },
     "execution_count": 96,
     "metadata": {},
     "output_type": "execute_result"
    }
   ],
   "source": [
    "# Dictionaries\n",
    "\n",
    "dict_example = {}\n",
    "\n",
    "dict_example == dict()\n",
    "\n",
    "# dictionary_example = {\"Key_1\":\"value_1\", \"key_2\":\"value_2\"}\n",
    "\n",
    "# type(dictionary_example)\n",
    "\n",
    "dict_example[\"Name_1\"] = \"Billy\"\n",
    "dict_example[\"Name_2\"] = \"Hameed\"\n",
    "\n",
    "dict_example"
   ]
  },
  {
   "cell_type": "code",
   "execution_count": 101,
   "metadata": {},
   "outputs": [
    {
     "data": {
      "text/plain": [
       "True"
      ]
     },
     "execution_count": 101,
     "metadata": {},
     "output_type": "execute_result"
    }
   ],
   "source": [
    "# `in` and `not in`\n",
    "\n",
    "\"Billy\" in dict_example.get(\"Name_1\")"
   ]
  },
  {
   "cell_type": "code",
   "execution_count": 107,
   "metadata": {},
   "outputs": [
    {
     "data": {
      "text/plain": [
       "0"
      ]
     },
     "execution_count": 107,
     "metadata": {},
     "output_type": "execute_result"
    }
   ],
   "source": [
    "dict_example.get(\"Name_3\", 0)\n",
    "# dict_example[\"Name_2\"]"
   ]
  },
  {
   "cell_type": "code",
   "execution_count": 108,
   "metadata": {},
   "outputs": [],
   "source": [
    "# Example\n",
    "\n",
    "# Given a dictionary;\n",
    "animals = {'dogs': [20, 10, 15, 8, 32, 15], 'cats': [3,4,2,8,2,4], 'rabbits': [2, 3, 3], 'fish': [0.3, 0.5, 0.8, 0.3, 1]}\n",
    "\n"
   ]
  },
  {
   "cell_type": "code",
   "execution_count": 110,
   "metadata": {},
   "outputs": [
    {
     "data": {
      "text/plain": [
       "['dogs', 'cats', 'rabbits', 'fish']"
      ]
     },
     "execution_count": 110,
     "metadata": {},
     "output_type": "execute_result"
    }
   ],
   "source": [
    "# What are the keys in the dictionary\n",
    "\n",
    "list(animals.keys())"
   ]
  },
  {
   "cell_type": "code",
   "execution_count": 111,
   "metadata": {},
   "outputs": [
    {
     "data": {
      "text/plain": [
       "dict_values([[20, 10, 15, 8, 32, 15], [3, 4, 2, 8, 2, 4], [2, 3, 3], [0.3, 0.5, 0.8, 0.3, 1]])"
      ]
     },
     "execution_count": 111,
     "metadata": {},
     "output_type": "execute_result"
    }
   ],
   "source": [
    "# Return the values in the dictionary\n",
    "animals.values()"
   ]
  },
  {
   "cell_type": "code",
   "execution_count": 112,
   "metadata": {},
   "outputs": [
    {
     "data": {
      "text/plain": [
       "4"
      ]
     },
     "execution_count": 112,
     "metadata": {},
     "output_type": "execute_result"
    }
   ],
   "source": [
    "# what is the length of the dictionary\n",
    "\n",
    "len(animals)"
   ]
  },
  {
   "cell_type": "code",
   "execution_count": 131,
   "metadata": {},
   "outputs": [
    {
     "data": {
      "text/plain": [
       "[('dogs', [20, 10, 15, 8, 32, 15]),\n",
       " ('cats', [3, 4, 2, 8, 2, 4]),\n",
       " ('rabbits', [2, 3, 3]),\n",
       " ('fish', [0.3, 0.5, 0.8, 0.3, 1])]"
      ]
     },
     "execution_count": 131,
     "metadata": {},
     "output_type": "execute_result"
    }
   ],
   "source": [
    "# Return the key of the last item\n",
    "list(animals.items())#[-1][-1]#[1]"
   ]
  },
  {
   "cell_type": "code",
   "execution_count": 129,
   "metadata": {},
   "outputs": [
    {
     "data": {
      "text/plain": [
       "[0.3, 0.5, 0.8, 0.3, 1]"
      ]
     },
     "execution_count": 129,
     "metadata": {},
     "output_type": "execute_result"
    }
   ],
   "source": [
    "animals.get(\"fish\")#[3]"
   ]
  },
  {
   "cell_type": "code",
   "execution_count": 130,
   "metadata": {},
   "outputs": [
    {
     "ename": "KeyError",
     "evalue": "3",
     "output_type": "error",
     "traceback": [
      "\u001b[1;31m---------------------------------------------------------------------------\u001b[0m",
      "\u001b[1;31mKeyError\u001b[0m                                  Traceback (most recent call last)",
      "Cell \u001b[1;32mIn [130], line 1\u001b[0m\n\u001b[1;32m----> 1\u001b[0m animals[\u001b[39m3\u001b[39;49m]\n",
      "\u001b[1;31mKeyError\u001b[0m: 3"
     ]
    }
   ],
   "source": [
    "animals[3]"
   ]
  },
  {
   "cell_type": "code",
   "execution_count": 135,
   "metadata": {},
   "outputs": [
    {
     "data": {
      "text/plain": [
       "{'dogs': [20, 10, 15, 8, 32, 15],\n",
       " 'cats': [3, 4, 2, 8, 2, 4],\n",
       " 'rabbits': {2, 3, 7},\n",
       " 'fish': [0.3, 0.5, 0.8, 0.3, 1]}"
      ]
     },
     "execution_count": 135,
     "metadata": {},
     "output_type": "execute_result"
    }
   ],
   "source": [
    "animal_data = [('dogs', [20, 10, 15, 8, 32, 15]),\n",
    " ('cats', [3, 4, 2, 8, 2, 4]),\n",
    " ('rabbits', [2, 3, 3]),\n",
    " ('fish', [0.3, 0.5, 0.8, 0.3, 1])]\n",
    "\n",
    "animal_data[2][1].append(7)\n",
    "\n",
    "dict_of_animals = dict(animal_data)\n",
    "dict_of_animals[\"rabbits\"] = set(animal_data[2][1])\n",
    "dict_of_animals\n"
   ]
  },
  {
   "cell_type": "code",
   "execution_count": 139,
   "metadata": {},
   "outputs": [
    {
     "data": {
      "text/plain": [
       "{'Str': 'dogs'}"
      ]
     },
     "execution_count": 139,
     "metadata": {},
     "output_type": "execute_result"
    }
   ],
   "source": [
    "{\"Str\": \"dogs\"}"
   ]
  },
  {
   "cell_type": "code",
   "execution_count": 141,
   "metadata": {},
   "outputs": [],
   "source": [
    "# Compond Data Structures\n",
    "\n",
    "example_of_compound_data_structure = {\n",
    "    \"Billy\": {\n",
    "        \"height\" : 170,\n",
    "        \"weight\" : 70,\n",
    "        \"age\" : 25\n",
    "    },\n",
    "    \"Hameed\": {\n",
    "        \"height\" : 180,\n",
    "        \"weight\" : 80,\n",
    "        \"age\" : 35\n",
    "    }\n",
    "}\n"
   ]
  },
  {
   "cell_type": "code",
   "execution_count": 147,
   "metadata": {},
   "outputs": [
    {
     "data": {
      "text/plain": [
       "35"
      ]
     },
     "execution_count": 147,
     "metadata": {},
     "output_type": "execute_result"
    }
   ],
   "source": [
    "# example_of_compound_data_structure[\"Hameed\"][\"age\"]\n",
    "example_of_compound_data_structure.get(\"Hameed\").get(\"age\")"
   ]
  },
  {
   "cell_type": "code",
   "execution_count": 150,
   "metadata": {},
   "outputs": [
    {
     "data": {
      "text/plain": [
       "{'Billy': {'height': 170, 'weight': 70, 'age': 25},\n",
       " 'Hameed': {'height': 180,\n",
       "  'weight': 80,\n",
       "  'age': 35,\n",
       "  'children': ['Ifeoluwa', 'Ireoluwa', 'Idowu']},\n",
       " 'count': 2}"
      ]
     },
     "execution_count": 150,
     "metadata": {},
     "output_type": "execute_result"
    }
   ],
   "source": [
    "example_of_compound_data_structure[\"Hameed\"][\"children\"] = [\"Ifeoluwa\", \"Ireoluwa\"]\n",
    "\n",
    "example_of_compound_data_structure[\"Hameed\"][\"children\"].append(\"Idowu\")\n",
    "\n",
    "example_of_compound_data_structure[\"count\"] = 2\n",
    "\n",
    "example_of_compound_data_structure"
   ]
  }
 ],
 "metadata": {
  "kernelspec": {
   "display_name": "Python 3",
   "language": "python",
   "name": "python3"
  },
  "language_info": {
   "codemirror_mode": {
    "name": "ipython",
    "version": 3
   },
   "file_extension": ".py",
   "mimetype": "text/x-python",
   "name": "python",
   "nbconvert_exporter": "python",
   "pygments_lexer": "ipython3",
   "version": "3.10.8 (tags/v3.10.8:aaaf517, Oct 11 2022, 16:50:30) [MSC v.1933 64 bit (AMD64)]"
  },
  "orig_nbformat": 4,
  "vscode": {
   "interpreter": {
    "hash": "620e5aca6dfc262dbbf3b8c44d5cccefd9ee684e03e6a97d0516e66a516bcd4e"
   }
  }
 },
 "nbformat": 4,
 "nbformat_minor": 2
}
