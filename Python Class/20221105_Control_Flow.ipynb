{
 "cells": [
  {
   "cell_type": "markdown",
   "metadata": {},
   "source": [
    "## Control Flows\n",
    "\n",
    "Is a logical sequence of code execution in Python.\n",
    "\n",
    "Some of the control flows we would be covering include;\n",
    "- Conditional Statements\n",
    "- Boolean Expressions\n",
    "- For and While Loops\n",
    "- Break and Continue\n",
    "- Zip and Enumerate and \n",
    "- List Comprehensions"
   ]
  },
  {
   "cell_type": "code",
   "execution_count": 17,
   "metadata": {},
   "outputs": [
    {
     "name": "stdout",
     "output_type": "stream",
     "text": [
      "November is not a valid day\n"
     ]
    }
   ],
   "source": [
    "# Conditional Statements - Are basically statements that evaluates to a boolean (True/False)\n",
    "\n",
    "# `If STatement`\n",
    "# An if statement is a conditional statement that runs or skips a block of code depending on whether a stated condition evaluates to true or false.\n",
    "today = \"November\"\n",
    "\n",
    "# print(today == \"Saturday\")\n",
    "\n",
    "if today == \"Saturday\": # Returns `True` on Exact match\n",
    "    print(\"Today is: \", today)\n",
    "\n",
    "if today is None: # Returns `True` if the stated variable has a None value assigned\n",
    "    print(f\"Yes\")\n",
    "\n",
    "if today in [\"Friday\", \"Saturday\", \"Sunday\"]: # Returns `True` if the stated variable has a None value assigned\n",
    "    print(f\"{today} is Weekend day\")\n",
    "\n",
    "elif today in [\"Monday\", \"Tuesday\"]:\n",
    "    print(f\"{today} is Weekday day\")\n",
    "\n",
    "else:\n",
    "    print(f\"{today} is not a valid day\")"
   ]
  },
  {
   "cell_type": "code",
   "execution_count": 26,
   "metadata": {},
   "outputs": [
    {
     "name": "stdout",
     "output_type": "stream",
     "text": [
      "New acc bal is: 9900\n",
      " New airtime bal is: 299\n"
     ]
    }
   ],
   "source": [
    "account_balance = 10000\n",
    "\n",
    "airtime_balance = 199\n",
    "\n",
    "if airtime_balance < 200:\n",
    "    #airtime_balance = airtime_balance + 100\n",
    "    airtime_balance += 100\n",
    "    account_balance -= 100\n",
    "print(f\"New acc bal is: {account_balance}\\n\", f\"New airtime bal is: {airtime_balance}\")\n"
   ]
  },
  {
   "cell_type": "markdown",
   "metadata": {},
   "source": [
    " Example: Write an `if` statement that lets a competitor know which of these prizes they won based on the number of points \n",
    " they scored, which is stored in the integer variable `points`.\n",
    "\n",
    "|Points|Prize|\n",
    "|------|------|\n",
    "|1 - 50|Wooden rabbit|\n",
    "|51 - 150|no prize|\n",
    "|151 - 180|wafer-thin mint|\n",
    "|181 - 200|penguin|\n",
    "\n",
    "Note: points can only be a positive integer not more than 200."
   ]
  },
  {
   "cell_type": "code",
   "execution_count": 45,
   "metadata": {},
   "outputs": [
    {
     "name": "stdout",
     "output_type": "stream",
     "text": [
      "You have won a Wooden rabbit!!!\n"
     ]
    }
   ],
   "source": [
    "points = 50\n",
    "\n",
    "if points <= 50:\n",
    "    print(\"You have won a Wooden rabbit!!!\")\n",
    "\n",
    "elif points <= 150:\n",
    "    print(\"Sorry, you have no prize at this time\")\n",
    "\n",
    "elif points <= 180:\n",
    "    print(\"You have won a Wafer-thin mint!!!\")\n",
    "\n",
    "elif points <= 200:\n",
    "    print(\"You have won a penguin!!!\")\n",
    "\n",
    "else:\n",
    "    print(\"Error, points can only be a positive integer of not more than 200\")"
   ]
  },
  {
   "cell_type": "code",
   "execution_count": 54,
   "metadata": {},
   "outputs": [
    {
     "name": "stdout",
     "output_type": "stream",
     "text": [
      "You have won a penguin!!!\n"
     ]
    }
   ],
   "source": [
    "points = 200\n",
    "\n",
    "if (points >= 1) & (points <= 50):\n",
    "    print(\"You have won a Wooden rabbit!!!\")\n",
    "\n",
    "elif (points >= 51) & (points <= 150):\n",
    "    print(\"Sorry, you have no prize at this time\")\n",
    "\n",
    "elif (points >= 151) & (points <= 180):\n",
    "    print(\"You have won a Wafer-thin mint!!!\")\n",
    "\n",
    "elif (points >= 181) & (points <= 200):\n",
    "    print(\"You have won a penguin!!!\")\n",
    "\n",
    "else:\n",
    "    print(\"Error, points can only be a positive integer of not more than 200\")"
   ]
  },
  {
   "cell_type": "code",
   "execution_count": 39,
   "metadata": {},
   "outputs": [
    {
     "name": "stdout",
     "output_type": "stream",
     "text": [
      "Since you're from Rivers, your total cost is 1089.0.\n"
     ]
    }
   ],
   "source": [
    "'''\n",
    "The state of Lagos, Oyo and Rivers have taxes of 7.5%, 9.5% and 8.9% respectively.\n",
    "Use this information to take the amount of a purchase and the corresponding state to assure that they are taxed \n",
    "by the right amount\n",
    "'''\n",
    "\n",
    "state = \"Rivers\"\n",
    "purchase_amt = 1000\n",
    "\n",
    "if state == \"Lagos\":\n",
    "    tax_amount = 7.5/100\n",
    "    total_cost = purchase_amt * (1 + tax_amount)\n",
    "    # tax = purchase_amt * tax_amount\n",
    "    # total_cost = purchase_amt + tax\n",
    "    result = f\"Since you're from {state}, your total cost is {total_cost}.\"\n",
    "\n",
    "elif state == \"Oyo\":\n",
    "    tax_amount = 9.5/100\n",
    "    total_cost = purchase_amt * (1 + tax_amount)\n",
    "    result = f\"Since you're from {state}, your total cost is {total_cost}.\"\n",
    "\n",
    "elif state == \"Rivers\":\n",
    "    tax_amount = 8.9/100\n",
    "    total_cost = purchase_amt * (1 + tax_amount)\n",
    "    result = f\"Since you're from {state}, your total cost is {total_cost}.\"\n",
    "\n",
    "print(result)"
   ]
  },
  {
   "cell_type": "code",
   "execution_count": 56,
   "metadata": {},
   "outputs": [
    {
     "name": "stdout",
     "output_type": "stream",
     "text": [
      "No value\n"
     ]
    }
   ],
   "source": [
    "# Complex Boolean Expressions\n",
    "\n",
    "value = None\n",
    "\n",
    "if value:\n",
    "    print(value)\n",
    "else:\n",
    "    print(\"No value\")"
   ]
  },
  {
   "cell_type": "code",
   "execution_count": 57,
   "metadata": {},
   "outputs": [
    {
     "name": "stdout",
     "output_type": "stream",
     "text": [
      "False False True False\n"
     ]
    }
   ],
   "source": [
    "\"\"\"Imagine an air traffic control program that tracks three variables, altitude, speed and propulsion.\n",
    "altitude = 10000\n",
    "speed = 250\n",
    "propulsion = 'Propeller'\n",
    "\n",
    "For each of the following boolean, what is the result after evaluation\n",
    "\"\"\"\n",
    "altitude = 10000\n",
    "speed = 250\n",
    "propulsion = 'Propeller'\n",
    "\n",
    "expression_1 = altitude < 1000 and speed > 100\n",
    "\n",
    "expression_2 = (propulsion == \"Jet\" or propulsion == \"Turboprop\") and speed < 300 and altitude > 20000\n",
    "\n",
    "expression_3 = not (speed > 400 and propulsion == \"Propeller\")\n",
    "\n",
    "expression_4 = (altitude < 500 and speed > 100) or not propulsion == \"Propeller\"\n",
    "\n",
    "print(expression_1, expression_2, expression_3, expression_4)"
   ]
  },
  {
   "cell_type": "code",
   "execution_count": 60,
   "metadata": {},
   "outputs": [
    {
     "data": {
      "text/plain": [
       "False"
      ]
     },
     "execution_count": 60,
     "metadata": {},
     "output_type": "execute_result"
    }
   ],
   "source": [
    "(propulsion == \"Jet\" or propulsion == \"Turboprop\") and speed < 300 and altitude > 20000"
   ]
  },
  {
   "cell_type": "code",
   "execution_count": 65,
   "metadata": {},
   "outputs": [
    {
     "name": "stdout",
     "output_type": "stream",
     "text": [
      "3\n",
      "4\n",
      "5\n",
      "6\n",
      "7\n",
      "Done\n"
     ]
    }
   ],
   "source": [
    "# For Loops - A `for` loop is used to `iterate` over a collection.\n",
    "\n",
    "numbers = [1, 2, 3, 4, 5]\n",
    "\n",
    "for item in numbers:\n",
    "    print(item+2)\n",
    "\n",
    "print(\"Done\")"
   ]
  },
  {
   "cell_type": "code",
   "execution_count": 67,
   "metadata": {},
   "outputs": [
    {
     "name": "stdout",
     "output_type": "stream",
     "text": [
      "Nigeria\n"
     ]
    }
   ],
   "source": [
    "countries = [\"Nigeria\", \"USA\", \"UK\", \"Russia\"]\n",
    "\n",
    "for country in countries:\n",
    "    if country == \"Nigeria\":\n",
    "        print(country)"
   ]
  },
  {
   "cell_type": "code",
   "execution_count": 74,
   "metadata": {},
   "outputs": [
    {
     "name": "stdout",
     "output_type": "stream",
     "text": [
      "0\n",
      "2\n",
      "4\n",
      "6\n"
     ]
    }
   ],
   "source": [
    "# range() function\n",
    "\n",
    "for i in range(0, 7, 2):\n",
    "    print(i)"
   ]
  },
  {
   "cell_type": "code",
   "execution_count": 76,
   "metadata": {},
   "outputs": [
    {
     "name": "stdout",
     "output_type": "stream",
     "text": [
      "Help on class range in module builtins:\n",
      "\n",
      "class range(object)\n",
      " |  range(stop) -> range object\n",
      " |  range(start, stop[, step]) -> range object\n",
      " |  \n",
      " |  Return an object that produces a sequence of integers from start (inclusive)\n",
      " |  to stop (exclusive) by step.  range(i, j) produces i, i+1, i+2, ..., j-1.\n",
      " |  start defaults to 0, and stop is omitted!  range(4) produces 0, 1, 2, 3.\n",
      " |  These are exactly the valid indices for a list of 4 elements.\n",
      " |  When step is given, it specifies the increment (or decrement).\n",
      " |  \n",
      " |  Methods defined here:\n",
      " |  \n",
      " |  __bool__(self, /)\n",
      " |      True if self else False\n",
      " |  \n",
      " |  __contains__(self, key, /)\n",
      " |      Return key in self.\n",
      " |  \n",
      " |  __eq__(self, value, /)\n",
      " |      Return self==value.\n",
      " |  \n",
      " |  __ge__(self, value, /)\n",
      " |      Return self>=value.\n",
      " |  \n",
      " |  __getattribute__(self, name, /)\n",
      " |      Return getattr(self, name).\n",
      " |  \n",
      " |  __getitem__(self, key, /)\n",
      " |      Return self[key].\n",
      " |  \n",
      " |  __gt__(self, value, /)\n",
      " |      Return self>value.\n",
      " |  \n",
      " |  __hash__(self, /)\n",
      " |      Return hash(self).\n",
      " |  \n",
      " |  __iter__(self, /)\n",
      " |      Implement iter(self).\n",
      " |  \n",
      " |  __le__(self, value, /)\n",
      " |      Return self<=value.\n",
      " |  \n",
      " |  __len__(self, /)\n",
      " |      Return len(self).\n",
      " |  \n",
      " |  __lt__(self, value, /)\n",
      " |      Return self<value.\n",
      " |  \n",
      " |  __ne__(self, value, /)\n",
      " |      Return self!=value.\n",
      " |  \n",
      " |  __reduce__(...)\n",
      " |      Helper for pickle.\n",
      " |  \n",
      " |  __repr__(self, /)\n",
      " |      Return repr(self).\n",
      " |  \n",
      " |  __reversed__(...)\n",
      " |      Return a reverse iterator.\n",
      " |  \n",
      " |  count(...)\n",
      " |      rangeobject.count(value) -> integer -- return number of occurrences of value\n",
      " |  \n",
      " |  index(...)\n",
      " |      rangeobject.index(value) -> integer -- return index of value.\n",
      " |      Raise ValueError if the value is not present.\n",
      " |  \n",
      " |  ----------------------------------------------------------------------\n",
      " |  Static methods defined here:\n",
      " |  \n",
      " |  __new__(*args, **kwargs) from builtins.type\n",
      " |      Create and return a new object.  See help(type) for accurate signature.\n",
      " |  \n",
      " |  ----------------------------------------------------------------------\n",
      " |  Data descriptors defined here:\n",
      " |  \n",
      " |  start\n",
      " |  \n",
      " |  step\n",
      " |  \n",
      " |  stop\n",
      "\n"
     ]
    }
   ],
   "source": [
    "help(range)"
   ]
  },
  {
   "cell_type": "code",
   "execution_count": 87,
   "metadata": {},
   "outputs": [
    {
     "name": "stdout",
     "output_type": "stream",
     "text": [
      "['Nigeria', 'USA', 'UK', 'Russia']\n"
     ]
    },
    {
     "data": {
      "text/plain": [
       "['Nigeria', 'Usa', 'Uk', 'Russia']"
      ]
     },
     "execution_count": 87,
     "metadata": {},
     "output_type": "execute_result"
    }
   ],
   "source": [
    "countries\n",
    "\n",
    "capitalized_countries = [] #list() \n",
    "\n",
    "for c in countries:\n",
    "    # print(f\"loop cycle: {countries.index(c)} - country: {c} - capitalized country: {c.title()} \")\n",
    "    capitalized_countries.append(c.title())\n",
    "\n",
    "print(countries)\n",
    "\n",
    "capitalized_countries"
   ]
  },
  {
   "cell_type": "code",
   "execution_count": 91,
   "metadata": {},
   "outputs": [
    {
     "name": "stdout",
     "output_type": "stream",
     "text": [
      "['Nigeria', 'USA', 'UK', 'Russia']\n",
      "0\n",
      "1\n",
      "2\n",
      "3\n"
     ]
    },
    {
     "data": {
      "text/plain": [
       "['nigeria', 'usa', 'uk', 'russia']"
      ]
     },
     "execution_count": 91,
     "metadata": {},
     "output_type": "execute_result"
    }
   ],
   "source": [
    "print(countries)\n",
    "\n",
    "for country_index in range(len(countries)):\n",
    "    print(country_index)\n",
    "    countries[country_index] = countries[country_index].lower()\n",
    "\n",
    "countries"
   ]
  },
  {
   "cell_type": "code",
   "execution_count": 92,
   "metadata": {},
   "outputs": [
    {
     "data": {
      "text/plain": [
       "['NIGERIA', 'USA', 'UK', 'RUSSIA']"
      ]
     },
     "execution_count": 92,
     "metadata": {},
     "output_type": "execute_result"
    }
   ],
   "source": [
    "for country in countries:\n",
    "    countries[countries.index(country)] = countries[countries.index(country)].upper()\n",
    "\n",
    "countries"
   ]
  },
  {
   "cell_type": "code",
   "execution_count": 7,
   "metadata": {},
   "outputs": [
    {
     "name": "stdout",
     "output_type": "stream",
     "text": [
      "Sorry, your guess is too high\n"
     ]
    }
   ],
   "source": [
    "# Control Flow Challenge:\n",
    "# Write a conditional statement that satisfy the below requirement - \n",
    "\n",
    "# You decide you want to play a game where you are hiding a number from someone.  \n",
    "# Store this number in a variable called 'answer'.  \n",
    "# Another user provides a number called 'guess'. \n",
    "# By comparing guess to answer, you inform the user if their guess is too high or too low.\n",
    "\n",
    "answer = 12\n",
    "guess = 100\n",
    "\n",
    "if guess < answer:\n",
    "    result = \"Sorry, your guess is too low\"\n",
    "elif guess > answer:\n",
    "    result = \"Sorry, your guess is too high\"\n",
    "elif guess == answer:\n",
    "    result = \"Correct, your guess is matching the answer\"\n",
    "\n",
    "print(result)"
   ]
  },
  {
   "cell_type": "code",
   "execution_count": 8,
   "metadata": {},
   "outputs": [
    {
     "name": "stdout",
     "output_type": "stream",
     "text": [
      "[1, 2, 3, 4, 5, 6]\n"
     ]
    }
   ],
   "source": [
    "# While Loops - A while loop is used to repeat an action for as many times as a set condition evaluated to True\n",
    "\n",
    "list_of_numbers = [1,2,3,4,5,6]\n",
    "\n",
    "another_list = []\n",
    "\n",
    "size = len(list_of_numbers)\n",
    "index = 0\n",
    "while size > 0:\n",
    "    another_list.append(list_of_numbers[index])\n",
    "    index += 1\n",
    "    size -= 1\n",
    "print(another_list)"
   ]
  },
  {
   "cell_type": "code",
   "execution_count": 13,
   "metadata": {},
   "outputs": [
    {
     "name": "stdout",
     "output_type": "stream",
     "text": [
      "[6, 5]\n"
     ]
    }
   ],
   "source": [
    "# add items in list of numbers to another_list such that the sum is less than 6\n",
    "\n",
    "target_list = list()\n",
    "\n",
    "# index = 0\n",
    "while sum(target_list) <= 6:\n",
    "    # target_list.append(list_of_numbers[index])\n",
    "    # index += 1\n",
    "    target_list.append(list_of_numbers.pop())\n",
    "\n",
    "print(target_list)\n"
   ]
  },
  {
   "cell_type": "code",
   "execution_count": 12,
   "metadata": {},
   "outputs": [
    {
     "name": "stdout",
     "output_type": "stream",
     "text": [
      "Help on built-in function pop:\n",
      "\n",
      "pop(index=-1, /) method of builtins.list instance\n",
      "    Remove and return item at index (default last).\n",
      "    \n",
      "    Raises IndexError if list is empty or index is out of range.\n",
      "\n"
     ]
    }
   ],
   "source": [
    "help(list_of_numbers.pop)"
   ]
  },
  {
   "cell_type": "code",
   "execution_count": 23,
   "metadata": {},
   "outputs": [
    {
     "name": "stdout",
     "output_type": "stream",
     "text": [
      "720\n"
     ]
    }
   ],
   "source": [
    "# Exercise\n",
    "# Find the factorial of a number using a while loop\n",
    "\n",
    "# 5! = 5*4*3*2*1\n",
    "number = 6\n",
    "\n",
    "base = 1\n",
    "\n",
    "factorial = 1\n",
    "\n",
    "while base <= number:\n",
    "    factorial *= base # factorial = factorial * base\n",
    "    base += 1\n",
    "\n",
    "print(factorial)\n"
   ]
  },
  {
   "cell_type": "code",
   "execution_count": 31,
   "metadata": {},
   "outputs": [
    {
     "name": "stdout",
     "output_type": "stream",
     "text": [
      "720\n"
     ]
    }
   ],
   "source": [
    "number = 6\n",
    "\n",
    "factorial = 1\n",
    "\n",
    "for num in (range(1, number + 1)):\n",
    "    factorial *= num\n",
    "\n",
    "print(factorial)"
   ]
  },
  {
   "cell_type": "markdown",
   "metadata": {},
   "source": [
    "Break and Continue\n",
    "\n",
    "Write a loop with a break statement to create a string, news_ticker, that is exactly 140 characters long. You should create the news ticker by adding headlines from the headlines list, inserting a space in between each headline. If necessary, truncate the last headline in the middle so that news_ticker is exactly 140 characters long."
   ]
  },
  {
   "cell_type": "code",
   "execution_count": 60,
   "metadata": {},
   "outputs": [
    {
     "name": "stdout",
     "output_type": "stream",
     "text": [
      "Local Bear Eaten by Man \n",
      "Local Bear Eaten by Man Legislature Announces New Laws \n",
      "Local Bear Eaten by Man Legislature Announces New Laws \n"
     ]
    }
   ],
   "source": [
    "headlines = [\"Local Bear Eaten by Man\",\n",
    "             \"Legislature Announces New Laws\",\n",
    "             \"Peasant Discovers Violence Inherent in System\",\n",
    "             \"Cat Rescues Fireman Stuck in Tree\",\n",
    "             \"Brave Knight Runs Away\",\n",
    "             \"Papperbok Review: Totally Triffic\"]\n",
    "\n",
    "news_ticker = ''\n",
    "\n",
    "index = 0\n",
    "while len(headlines) > 0:\n",
    "    news_ticker += headlines[index] + ' '\n",
    "    print(news_ticker)\n",
    "    index += 1\n",
    "    if len(news_ticker) >= 40:\n",
    "        break\n",
    "\n",
    "print(news_ticker)"
   ]
  },
  {
   "cell_type": "code",
   "execution_count": 49,
   "metadata": {},
   "outputs": [
    {
     "name": "stdout",
     "output_type": "stream",
     "text": [
      "{'i': 2, 'r': 1, 'e': 1, 't': 1, 'o': 1, 'l': 1, 'u': 1, 'w': 1, 'a': 1}\n"
     ]
    }
   ],
   "source": [
    "# Building Dictionaries\n",
    "\n",
    "# Use a dictionary to count the frequency of letters in the input string. Only letters should be counted, not blank spaces, \n",
    "# numbers, or punctuation. Upper case should be considered the same as lower case. For example, \n",
    "# count_letters(\"This is a sentence.\") should return {'t': 2, 'h': 1, 'i': 2, 's': 3, 'a': 1, 'e': 3, 'n': 2, 'c': 1}.\n",
    "\n",
    "text = \"Iretioluwa.\"\n",
    "\n",
    "result = {}\n",
    "# Go through each letter in the text\n",
    "for letter in text.lower():\n",
    "    # Check if the letter needs to be counted or not\n",
    "    if letter.isalpha():\n",
    "        # Add or increment the value in the dictionary\n",
    "        if letter in result:\n",
    "            result[letter]+=1\n",
    "        else:\n",
    "            result[letter] = 1\n",
    "\n",
    "print(result)"
   ]
  },
  {
   "cell_type": "code",
   "execution_count": 50,
   "metadata": {},
   "outputs": [
    {
     "name": "stdout",
     "output_type": "stream",
     "text": [
      "{'test_1': 'Mathematics'}\n"
     ]
    }
   ],
   "source": [
    "test_dict = {}\n",
    "\n",
    "test_dict[\"test_1\"] = \"Mathematics\"\n",
    "\n",
    "print(test_dict)"
   ]
  },
  {
   "cell_type": "code",
   "execution_count": 55,
   "metadata": {},
   "outputs": [
    {
     "name": "stdout",
     "output_type": "stream",
     "text": [
      "23\n"
     ]
    }
   ],
   "source": [
    "# You would like to count the number of fruits in your basket. \n",
    "# In order to do this, you have the following dictionary and list of fruits. \n",
    "# Use the dictionary and list to count the total number of fruits, \n",
    "# but you do not want to count the other items in your basket.\n",
    "\n",
    "basket_items = {'apples': 4, 'oranges': 19, 'kites': 3, 'sandwiches': 8}\n",
    "fruits = ['apples', 'oranges', 'pears', 'peaches', 'grapes', 'bananas']\n",
    "\n",
    "count = 0\n",
    "# for f in fruits:\n",
    "#     if f in basket_items:\n",
    "#         count += basket_items[f]\n",
    "\n",
    "# for f in fruits:\n",
    "#     count += basket_items.get(f, 0)\n",
    "\n",
    "for fruit, c in basket_items.items():\n",
    "    if fruit in fruits:\n",
    "        count += c\n",
    "\n",
    "print(count)"
   ]
  },
  {
   "cell_type": "markdown",
   "metadata": {},
   "source": [
    "Write code to check if the numbers provided in the list check_prime are prime numbers. \n",
    "For each number, if the number is prime, the code should print that the number is a prime number. \n",
    "If the number is NOT a prime number, it should print that the number is not a prime number, and also print a factor of that number besides 1 and the number itself.\n",
    "\n",
    "```dotnetcli\n",
    "check_prime = [26, 39, 51, 53, 57, 79, 85]\n",
    "```\n",
    "\n",
    "- loop through each number in the check_prime list\n",
    "- test each number for the prime condition (divisible by number and 1 only). if true, the number is considered a prime number\n",
    "- handle the case specific output"
   ]
  },
  {
   "cell_type": "code",
   "execution_count": 64,
   "metadata": {},
   "outputs": [
    {
     "name": "stdout",
     "output_type": "stream",
     "text": [
      "26 is NOT a prime number because 2 is a factor of 26\n",
      "39 is NOT a prime number because 3 is a factor of 39\n",
      "51 is NOT a prime number because 3 is a factor of 51\n",
      "53 IS a prime number\n",
      "57 is NOT a prime number because 3 is a factor of 57\n",
      "79 IS a prime number\n",
      "85 is NOT a prime number because 5 is a factor of 85\n"
     ]
    }
   ],
   "source": [
    "check_prime = [26, 39, 51, 53, 57, 79, 85]\n",
    "\n",
    "# iterate through the check_prime list\n",
    "for number in check_prime:\n",
    "\n",
    "    #search for the factors by iterating through the number range from 2 to number\n",
    "    for factor in range(2, number):\n",
    "        factor_list = []\n",
    "\n",
    "        if (number % factor) == 0:\n",
    "            factor_list.append(factor)\n",
    "            print(f\"{number} is NOT a prime number because {factor} is a factor of {number}\")\n",
    "            break\n",
    "        if factor == number-1:\n",
    "            print(f\"{number} IS a prime number\")\n"
   ]
  },
  {
   "cell_type": "markdown",
   "metadata": {},
   "source": [
    "We can reverse a string by either using the slice ```\"string\"[::-1]``` or \n",
    "splitting the string into a list and passing the list into reversed() built-in list function and joining the result by an empty string.\n",
    "```\"\".join(reversed(\" \".join(\"string\").split()))```"
   ]
  },
  {
   "cell_type": "code",
   "execution_count": 74,
   "metadata": {},
   "outputs": [
    {
     "name": "stdout",
     "output_type": "stream",
     "text": [
      "1 <-> a\n",
      "2 <-> b\n",
      "3 <-> c\n"
     ]
    }
   ],
   "source": [
    "# Zip and Enumerate\n",
    "\n",
    "# Zip is used to return an iterator that combines multiple iterables into a tuple\n",
    "\n",
    "list_1 = [1,2,3]\n",
    "list_2 = ['a', 'b', 'c']\n",
    "\n",
    "# dict(zip(list_1, list_2))\n",
    "for l1, l2 in zip(list_1, list_2):\n",
    "    print(f\"{l1} <-> {l2}\")"
   ]
  },
  {
   "cell_type": "code",
   "execution_count": 75,
   "metadata": {},
   "outputs": [
    {
     "name": "stdout",
     "output_type": "stream",
     "text": [
      "0 <-> 1\n",
      "1 <-> 2\n",
      "2 <-> 3\n",
      "3 <-> a\n",
      "4 <-> b\n",
      "5 <-> c\n"
     ]
    }
   ],
   "source": [
    "# Enumerate is a built-in python function that helps us to add an index to an iterable\n",
    "list_1.extend(list_2)\n",
    "\n",
    "for index, item in (enumerate(list_1)):\n",
    "    print(f\"{index} <-> {item}\")"
   ]
  },
  {
   "cell_type": "code",
   "execution_count": 92,
   "metadata": {},
   "outputs": [
    {
     "data": {
      "text/plain": [
       "['1 is not a prime',\n",
       " '2 is prime',\n",
       " '5 is not a prime',\n",
       " '6 is prime',\n",
       " '8 is prime',\n",
       " '9 is not a prime']"
      ]
     },
     "execution_count": 92,
     "metadata": {},
     "output_type": "execute_result"
    }
   ],
   "source": [
    "# List Comprehension - Is a technique that helps to manipulate list items directly\n",
    "\n",
    "list_of_countries = [\"Nigeria\", \"Norway\", \"China\", \"UK\", \"India\"]\n",
    "\n",
    "list_of_numbers = [1,2,5,6,8,9]\n",
    "\n",
    "# [\"output\" for \"iteration_variable\" in \"iterable\"]\n",
    "\n",
    "# a basic list comprehension\n",
    "[country.upper() for country in list_of_countries]\n",
    "\n",
    "# list comprehension with condition\n",
    "[country.upper() for country in list_of_countries if country.startswith(\"N\")]\n",
    "[i for i in list_of_numbers if not (i%2 == 0)]\n",
    "\n",
    "# list comprehension with condition and alternative result\n",
    "[country.upper() if country.startswith(\"N\") else country.lower() for country in list_of_countries]\n",
    "[str(i)+\" is not a prime\" if not (i%2 == 0) else str(i)+\" is prime\" for i in list_of_numbers ]\n",
    "\n"
   ]
  },
  {
   "cell_type": "code",
   "execution_count": 96,
   "metadata": {},
   "outputs": [
    {
     "data": {
      "text/plain": [
       "[2, 4, 6, 36, 64, 10]"
      ]
     },
     "execution_count": 96,
     "metadata": {},
     "output_type": "execute_result"
    }
   ],
   "source": [
    "[n**2 if n%2 == 0 else n+1 for n in list_of_numbers]"
   ]
  },
  {
   "cell_type": "code",
   "execution_count": 99,
   "metadata": {},
   "outputs": [
    {
     "data": {
      "text/plain": [
       "['rick', 'morty', 'summer', 'jerry', 'beth']"
      ]
     },
     "execution_count": 99,
     "metadata": {},
     "output_type": "execute_result"
    }
   ],
   "source": [
    "# Use a list comprehension to create a new list first_names containing just the first names in names in lowercase.\n",
    "\n",
    "names = [\"Rick Sanchez\", \"Morty Smith\", \"Summer Smith\", \"Jerry Smith\", \"Beth Smith\"]\n",
    "\n",
    "first_name = [name.split()[0].lower() for name in names]\n",
    "\n",
    "first_name"
   ]
  },
  {
   "cell_type": "code",
   "execution_count": 109,
   "metadata": {},
   "outputs": [
    {
     "data": {
      "text/plain": [
       "['Rick Sanchez', 'Summer Smith', 'Beth Smith']"
      ]
     },
     "execution_count": 109,
     "metadata": {},
     "output_type": "execute_result"
    }
   ],
   "source": [
    "# Use a list comprehension to create a list of names passed that only include those that scored at least 65.\n",
    "scores = {\n",
    "             \"Rick Sanchez\": 70,\n",
    "             \"Morty Smith\": 35,\n",
    "             \"Summer Smith\": 82,\n",
    "             \"Jerry Smith\": 23,\n",
    "             \"Beth Smith\": 98\n",
    "          }\n",
    "[name for name in scores.keys() if scores[name] >= 65]"
   ]
  },
  {
   "cell_type": "code",
   "execution_count": 1,
   "metadata": {},
   "outputs": [
    {
     "data": {
      "text/plain": [
       "'nhoJ'"
      ]
     },
     "execution_count": 1,
     "metadata": {},
     "output_type": "execute_result"
    }
   ],
   "source": [
    "\"John\"[::-1]\n",
    "# for i in \"John\":\n",
    "#     print(i)\n",
    "# \" \".join(\"John\").split()"
   ]
  },
  {
   "cell_type": "code",
   "execution_count": 2,
   "metadata": {},
   "outputs": [
    {
     "data": {
      "text/plain": [
       "'nhoJ'"
      ]
     },
     "execution_count": 2,
     "metadata": {},
     "output_type": "execute_result"
    }
   ],
   "source": [
    "\"\".join(reversed(\" \".join(\"John\").split()))"
   ]
  },
  {
   "cell_type": "code",
   "execution_count": 7,
   "metadata": {},
   "outputs": [
    {
     "ename": "AttributeError",
     "evalue": "module 'itertools' has no attribute 'ifilter'",
     "output_type": "error",
     "traceback": [
      "\u001b[1;31m---------------------------------------------------------------------------\u001b[0m",
      "\u001b[1;31mAttributeError\u001b[0m                            Traceback (most recent call last)",
      "Cell \u001b[1;32mIn [7], line 32\u001b[0m\n\u001b[0;32m     30\u001b[0m \u001b[39mimport\u001b[39;00m \u001b[39mitertools\u001b[39;00m\n\u001b[0;32m     31\u001b[0m \u001b[39mfrom\u001b[39;00m \u001b[39mitertools\u001b[39;00m \u001b[39mimport\u001b[39;00m count, islice\n\u001b[1;32m---> 32\u001b[0m [i \u001b[39mfor\u001b[39;00m i \u001b[39min\u001b[39;00m itertools\u001b[39m.\u001b[39;49mifilter(\u001b[39mlambda\u001b[39;00m x: x\u001b[39m%\u001b[39m\u001b[39m5\u001b[39m, islice(count(\u001b[39m5\u001b[39m), \u001b[39m10\u001b[39m))]\n",
      "\u001b[1;31mAttributeError\u001b[0m: module 'itertools' has no attribute 'ifilter'"
     ]
    }
   ],
   "source": [
    "def a():\n",
    "    return 10\n",
    "\n",
    "type(a)\n",
    "\n",
    "5//2\n",
    "\n",
    "a = 7\n",
    "\n",
    "a.__str__()\n",
    "\n",
    "# def f():\n",
    "#     f()\n",
    "#     return 42\n",
    "# f()\n",
    "\n",
    "class test():\n",
    "    id = 0\n",
    "    def __init__(self, id):\n",
    "        self.id = id\n",
    "        id = 2\n",
    "\n",
    "t = test(1)\n",
    "t.id\n",
    "\n",
    "from datetime import datetime, date\n",
    "\n",
    "type(date(2012,1,1) - date(2022,1,1))\n",
    "\n",
    "import itertools\n",
    "from itertools import count, islice\n",
    "[i for i in itertools.ifilter(lambda x: x%5, islice(count(5), 10))]"
   ]
  }
 ],
 "metadata": {
  "kernelspec": {
   "display_name": "Python 3",
   "language": "python",
   "name": "python3"
  },
  "language_info": {
   "codemirror_mode": {
    "name": "ipython",
    "version": 3
   },
   "file_extension": ".py",
   "mimetype": "text/x-python",
   "name": "python",
   "nbconvert_exporter": "python",
   "pygments_lexer": "ipython3",
   "version": "3.10.8 (tags/v3.10.8:aaaf517, Oct 11 2022, 16:50:30) [MSC v.1933 64 bit (AMD64)]"
  },
  "orig_nbformat": 4,
  "vscode": {
   "interpreter": {
    "hash": "620e5aca6dfc262dbbf3b8c44d5cccefd9ee684e03e6a97d0516e66a516bcd4e"
   }
  }
 },
 "nbformat": 4,
 "nbformat_minor": 2
}
