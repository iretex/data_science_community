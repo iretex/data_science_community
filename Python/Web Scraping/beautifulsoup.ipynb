{
 "cells": [
  {
   "cell_type": "code",
   "execution_count": 1,
   "metadata": {},
   "outputs": [],
   "source": [
    "import requests"
   ]
  },
  {
   "cell_type": "code",
   "execution_count": 2,
   "metadata": {},
   "outputs": [],
   "source": [
    "import requests\n",
    "from bs4 import BeautifulSoup\n",
    "\n",
    "url = \"https://upcfoodsearch.com/food-products/baby-fruit-juice/\"\n",
    "page = requests.get(url)\n",
    "\n",
    "soup = BeautifulSoup(page.content, \"html.parser\")"
   ]
  },
  {
   "cell_type": "code",
   "execution_count": 3,
   "metadata": {},
   "outputs": [],
   "source": [
    "results = soup.find(id=\"content\")"
   ]
  },
  {
   "cell_type": "code",
   "execution_count": 4,
   "metadata": {},
   "outputs": [
    {
     "name": "stdout",
     "output_type": "stream",
     "text": [
      "<div id=\"content\">\n",
      " <div class=\"list-group lg-root well\">\n",
      "  <a class=\"list-group-item\" href=\"https://upcfoodsearch.com/food-products/baby-fruit-juice/052200003640/\">\n",
      "   Beech-Nut Stage 1 White Grape Juice\n",
      "  </a>\n",
      "  <a class=\"list-group-item\" href=\"https://upcfoodsearch.com/food-products/baby-fruit-juice/023923100015/\">\n",
      "   Earth's Best Organic Apple Juice Stage 2\n",
      "  </a>\n",
      "  <a class=\"list-group-item\" href=\"https://upcfoodsearch.com/food-products/baby-fruit-juice/023923100046/\">\n",
      "   Earth's Best Organic Pear Juice Stage 2\n",
      "  </a>\n",
      "  <a class=\"list-group-item\" href=\"https://upcfoodsearch.com/food-products/baby-fruit-juice/015000012519/\">\n",
      "   Gerber Graduates Fruit Splashers Grape\n",
      "  </a>\n",
      "  <a class=\"list-group-item\" href=\"https://upcfoodsearch.com/food-products/baby-fruit-juice/015000012526/\">\n",
      "   Gerber Graduates Fruit Splashers Juice Strawberry Kiwi\n",
      "  </a>\n",
      "  <a class=\"list-group-item\" href=\"https://upcfoodsearch.com/food-products/baby-fruit-juice/015000012533/\">\n",
      "   Gerber Graduates Fruit Splashers Tropical\n",
      "  </a>\n",
      "  <a class=\"list-group-item\" href=\"https://upcfoodsearch.com/food-products/baby-fruit-juice/015000020712/\">\n",
      "   Gerber Juice Apple\n",
      "  </a>\n",
      "  <a class=\"list-group-item\" href=\"https://upcfoodsearch.com/food-products/baby-fruit-juice/015000007782/\">\n",
      "   Gerber Juice White Grape\n",
      "  </a>\n",
      "  <a class=\"list-group-item\" href=\"https://upcfoodsearch.com/food-products/baby-fruit-juice/015000020729/\">\n",
      "   Gerber Juice White Grape Bottle\n",
      "  </a>\n",
      "  <a class=\"list-group-item\" href=\"https://upcfoodsearch.com/food-products/baby-fruit-juice/014800318043/\">\n",
      "   Mott's for Tots Juice Apple White Grape\n",
      "  </a>\n",
      " </div>\n",
      "</div>\n",
      "\n"
     ]
    }
   ],
   "source": [
    "print(results.prettify())"
   ]
  },
  {
   "cell_type": "code",
   "execution_count": 7,
   "metadata": {},
   "outputs": [],
   "source": [
    "selection = results.find_all(\"a\", class_=\"list-group-item\")"
   ]
  },
  {
   "cell_type": "code",
   "execution_count": 8,
   "metadata": {},
   "outputs": [
    {
     "name": "stdout",
     "output_type": "stream",
     "text": [
      "<a class=\"list-group-item\" href=\"https://upcfoodsearch.com/food-products/baby-fruit-juice/052200003640/\">Beech-Nut Stage 1 White Grape Juice</a>\n",
      "\n",
      "<a class=\"list-group-item\" href=\"https://upcfoodsearch.com/food-products/baby-fruit-juice/023923100015/\">Earth's Best Organic Apple Juice Stage 2</a>\n",
      "\n",
      "<a class=\"list-group-item\" href=\"https://upcfoodsearch.com/food-products/baby-fruit-juice/023923100046/\">Earth's Best Organic Pear Juice Stage 2</a>\n",
      "\n",
      "<a class=\"list-group-item\" href=\"https://upcfoodsearch.com/food-products/baby-fruit-juice/015000012519/\">Gerber Graduates Fruit Splashers Grape</a>\n",
      "\n",
      "<a class=\"list-group-item\" href=\"https://upcfoodsearch.com/food-products/baby-fruit-juice/015000012526/\">Gerber Graduates Fruit Splashers Juice Strawberry Kiwi</a>\n",
      "\n",
      "<a class=\"list-group-item\" href=\"https://upcfoodsearch.com/food-products/baby-fruit-juice/015000012533/\">Gerber Graduates Fruit Splashers Tropical</a>\n",
      "\n",
      "<a class=\"list-group-item\" href=\"https://upcfoodsearch.com/food-products/baby-fruit-juice/015000020712/\">Gerber Juice Apple</a>\n",
      "\n",
      "<a class=\"list-group-item\" href=\"https://upcfoodsearch.com/food-products/baby-fruit-juice/015000007782/\">Gerber Juice White Grape</a>\n",
      "\n",
      "<a class=\"list-group-item\" href=\"https://upcfoodsearch.com/food-products/baby-fruit-juice/015000020729/\">Gerber Juice White Grape Bottle</a>\n",
      "\n",
      "<a class=\"list-group-item\" href=\"https://upcfoodsearch.com/food-products/baby-fruit-juice/014800318043/\">Mott's for Tots Juice Apple White Grape</a>\n",
      "\n"
     ]
    }
   ],
   "source": [
    "for s in selection:\n",
    "    print(s, end=\"\\n\"*2)"
   ]
  }
 ],
 "metadata": {
  "kernelspec": {
   "display_name": "py_conda",
   "language": "python",
   "name": "python3"
  },
  "language_info": {
   "codemirror_mode": {
    "name": "ipython",
    "version": 3
   },
   "file_extension": ".py",
   "mimetype": "text/x-python",
   "name": "python",
   "nbconvert_exporter": "python",
   "pygments_lexer": "ipython3",
   "version": "3.9.16"
  }
 },
 "nbformat": 4,
 "nbformat_minor": 2
}
