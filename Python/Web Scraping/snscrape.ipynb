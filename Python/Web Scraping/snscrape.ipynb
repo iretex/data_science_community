{
 "cells": [
  {
   "cell_type": "code",
   "execution_count": 2,
   "metadata": {},
   "outputs": [
    {
     "name": "stdout",
     "output_type": "stream",
     "text": [
      "Collecting snscrape\n",
      "  Using cached snscrape-0.4.3.20220106-py3-none-any.whl (59 kB)\n",
      "Requirement already satisfied: requests[socks] in c:\\users\\ng005454\\onedrive\\project\\stutern\\sga11_dsci\\011122\\envs\\lib\\site-packages (from snscrape) (2.27.1)\n",
      "Collecting lxml\n",
      "  Downloading lxml-4.9.0-cp39-cp39-win_amd64.whl (3.6 MB)\n",
      "Collecting filelock\n",
      "  Using cached filelock-3.7.1-py3-none-any.whl (10 kB)\n",
      "Collecting beautifulsoup4\n",
      "  Using cached beautifulsoup4-4.11.1-py3-none-any.whl (128 kB)\n",
      "Collecting soupsieve>1.2\n",
      "  Using cached soupsieve-2.3.2.post1-py3-none-any.whl (37 kB)\n",
      "Requirement already satisfied: certifi>=2017.4.17 in c:\\users\\ng005454\\onedrive\\project\\stutern\\sga11_dsci\\011122\\envs\\lib\\site-packages (from requests[socks]->snscrape) (2021.10.8)\n",
      "Requirement already satisfied: urllib3<1.27,>=1.21.1 in c:\\users\\ng005454\\onedrive\\project\\stutern\\sga11_dsci\\011122\\envs\\lib\\site-packages (from requests[socks]->snscrape) (1.26.8)\n",
      "Requirement already satisfied: idna<4,>=2.5 in c:\\users\\ng005454\\onedrive\\project\\stutern\\sga11_dsci\\011122\\envs\\lib\\site-packages (from requests[socks]->snscrape) (3.1)\n",
      "Requirement already satisfied: charset-normalizer~=2.0.0 in c:\\users\\ng005454\\onedrive\\project\\stutern\\sga11_dsci\\011122\\envs\\lib\\site-packages (from requests[socks]->snscrape) (2.0.10)\n",
      "Requirement already satisfied: PySocks!=1.5.7,>=1.5.6 in c:\\users\\ng005454\\onedrive\\project\\stutern\\sga11_dsci\\011122\\envs\\lib\\site-packages (from requests[socks]->snscrape) (1.7.1)\n",
      "Installing collected packages: soupsieve, lxml, filelock, beautifulsoup4, snscrape\n",
      "Successfully installed beautifulsoup4-4.11.1 filelock-3.7.1 lxml-4.9.0 snscrape-0.4.3.20220106 soupsieve-2.3.2.post1\n",
      "Note: you may need to restart the kernel to use updated packages.\n"
     ]
    },
    {
     "name": "stderr",
     "output_type": "stream",
     "text": [
      "WARNING: You are using pip version 21.2.4; however, version 22.1.2 is available.\n",
      "You should consider upgrading via the 'c:\\Users\\ng005454\\OneDrive\\Project\\STUTERN\\SGA11_DSCI\\011122\\envs\\python.exe -m pip install --upgrade pip' command.\n"
     ]
    }
   ],
   "source": [
    "%pip install snscrape"
   ]
  },
  {
   "cell_type": "code",
   "execution_count": 6,
   "metadata": {},
   "outputs": [],
   "source": [
    "import snscrape.modules.twitter as sntwitter\n",
    "import pandas as pd\n",
    "from datetime import datetime\n",
    "\n",
    "query = \"(from:elonmusk) until:{} since:2022-01-01\".format(datetime.today().strftime(\"%Y-%m-%d\"))\n",
    "tweets = []\n",
    "limit = 5000\n",
    "\n",
    "\n",
    "for tweet in sntwitter.TwitterSearchScraper(query).get_items():\n",
    "    \n",
    "    # print(vars(tweet))\n",
    "    # break\n",
    "    if len(tweets) == limit:\n",
    "        break\n",
    "    else:\n",
    "        tweets.append([tweet.date, tweet.user.username, tweet.content])\n",
    "        \n",
    "df = pd.DataFrame(tweets, columns=['Date', 'User', 'Tweet'])"
   ]
  },
  {
   "cell_type": "code",
   "execution_count": 7,
   "metadata": {},
   "outputs": [
    {
     "data": {
      "text/html": [
       "<div>\n",
       "<style scoped>\n",
       "    .dataframe tbody tr th:only-of-type {\n",
       "        vertical-align: middle;\n",
       "    }\n",
       "\n",
       "    .dataframe tbody tr th {\n",
       "        vertical-align: top;\n",
       "    }\n",
       "\n",
       "    .dataframe thead th {\n",
       "        text-align: right;\n",
       "    }\n",
       "</style>\n",
       "<table border=\"1\" class=\"dataframe\">\n",
       "  <thead>\n",
       "    <tr style=\"text-align: right;\">\n",
       "      <th></th>\n",
       "      <th>Date</th>\n",
       "      <th>User</th>\n",
       "      <th>Tweet</th>\n",
       "    </tr>\n",
       "  </thead>\n",
       "  <tbody>\n",
       "    <tr>\n",
       "      <th>0</th>\n",
       "      <td>2022-05-14 23:55:42+00:00</td>\n",
       "      <td>elonmusk</td>\n",
       "      <td>The Lawyers Who Ate California https://t.co/i4...</td>\n",
       "    </tr>\n",
       "    <tr>\n",
       "      <th>1</th>\n",
       "      <td>2022-05-14 23:18:15+00:00</td>\n",
       "      <td>elonmusk</td>\n",
       "      <td>@nichegamer Just another day in Elden Ring!</td>\n",
       "    </tr>\n",
       "    <tr>\n",
       "      <th>2</th>\n",
       "      <td>2022-05-14 23:15:37+00:00</td>\n",
       "      <td>elonmusk</td>\n",
       "      <td>@PPathole @Twitter Twitter legal just called t...</td>\n",
       "    </tr>\n",
       "    <tr>\n",
       "      <th>3</th>\n",
       "      <td>2022-05-14 23:08:17+00:00</td>\n",
       "      <td>elonmusk</td>\n",
       "      <td>(This message brought to you by the Illuminaug...</td>\n",
       "    </tr>\n",
       "    <tr>\n",
       "      <th>4</th>\n",
       "      <td>2022-05-14 23:04:15+00:00</td>\n",
       "      <td>elonmusk</td>\n",
       "      <td>Very important to fix your Twitter feed:\\n\\n1....</td>\n",
       "    </tr>\n",
       "    <tr>\n",
       "      <th>...</th>\n",
       "      <td>...</td>\n",
       "      <td>...</td>\n",
       "      <td>...</td>\n",
       "    </tr>\n",
       "    <tr>\n",
       "      <th>1210</th>\n",
       "      <td>2022-01-02 22:56:00+00:00</td>\n",
       "      <td>elonmusk</td>\n",
       "      <td>https://t.co/LA9hPzVlGx</td>\n",
       "    </tr>\n",
       "    <tr>\n",
       "      <th>1211</th>\n",
       "      <td>2022-01-02 18:19:33+00:00</td>\n",
       "      <td>elonmusk</td>\n",
       "      <td>Let’s make the roaring 20’s happen!</td>\n",
       "    </tr>\n",
       "    <tr>\n",
       "      <th>1212</th>\n",
       "      <td>2022-01-02 17:56:50+00:00</td>\n",
       "      <td>elonmusk</td>\n",
       "      <td>Great work by Tesla team worldwide! https://t....</td>\n",
       "    </tr>\n",
       "    <tr>\n",
       "      <th>1213</th>\n",
       "      <td>2022-01-01 01:58:52+00:00</td>\n",
       "      <td>elonmusk</td>\n",
       "      <td>@BLKMDL3 @Tesla 🔥</td>\n",
       "    </tr>\n",
       "    <tr>\n",
       "      <th>1214</th>\n",
       "      <td>2022-01-01 00:53:13+00:00</td>\n",
       "      <td>elonmusk</td>\n",
       "      <td>@MiFSDBetaTester @WholeMarsBlog 🤣</td>\n",
       "    </tr>\n",
       "  </tbody>\n",
       "</table>\n",
       "<p>1215 rows × 3 columns</p>\n",
       "</div>"
      ],
      "text/plain": [
       "                          Date      User  \\\n",
       "0    2022-05-14 23:55:42+00:00  elonmusk   \n",
       "1    2022-05-14 23:18:15+00:00  elonmusk   \n",
       "2    2022-05-14 23:15:37+00:00  elonmusk   \n",
       "3    2022-05-14 23:08:17+00:00  elonmusk   \n",
       "4    2022-05-14 23:04:15+00:00  elonmusk   \n",
       "...                        ...       ...   \n",
       "1210 2022-01-02 22:56:00+00:00  elonmusk   \n",
       "1211 2022-01-02 18:19:33+00:00  elonmusk   \n",
       "1212 2022-01-02 17:56:50+00:00  elonmusk   \n",
       "1213 2022-01-01 01:58:52+00:00  elonmusk   \n",
       "1214 2022-01-01 00:53:13+00:00  elonmusk   \n",
       "\n",
       "                                                  Tweet  \n",
       "0     The Lawyers Who Ate California https://t.co/i4...  \n",
       "1           @nichegamer Just another day in Elden Ring!  \n",
       "2     @PPathole @Twitter Twitter legal just called t...  \n",
       "3     (This message brought to you by the Illuminaug...  \n",
       "4     Very important to fix your Twitter feed:\\n\\n1....  \n",
       "...                                                 ...  \n",
       "1210                            https://t.co/LA9hPzVlGx  \n",
       "1211                Let’s make the roaring 20’s happen!  \n",
       "1212  Great work by Tesla team worldwide! https://t....  \n",
       "1213                                  @BLKMDL3 @Tesla 🔥  \n",
       "1214                  @MiFSDBetaTester @WholeMarsBlog 🤣  \n",
       "\n",
       "[1215 rows x 3 columns]"
      ]
     },
     "execution_count": 7,
     "metadata": {},
     "output_type": "execute_result"
    }
   ],
   "source": [
    "# print(df)\n",
    "df\n",
    "# to save to csv\n",
    "# df.to_csv('tweets.csv')"
   ]
  },
  {
   "cell_type": "code",
   "execution_count": 4,
   "metadata": {},
   "outputs": [],
   "source": [
    "import snscrape.modules.twitter as sntwitter\n",
    "import pandas as pd\n",
    "from datetime import datetime\n",
    "\n",
    "query = \"(from:elonmusk) until:{} since:2022-01-01\".format(datetime.today().strftime(\"%Y-%m-%d\"))\n",
    "\n",
    "limit = 5000\n",
    "\n",
    "def extract_tweets(query, limit = 5000) -> pd.DataFrame:\n",
    "    tweets = []\n",
    "    for tweet in sntwitter.TwitterSearchScraper(query).get_items():\n",
    "        # print(vars(tweet))\n",
    "        # break\n",
    "        if len(tweets) == limit:\n",
    "            break\n",
    "        else:\n",
    "            tweets.append([tweet.date, tweet.user.username, tweet.content])\n",
    "    return pd.DataFrame(tweets, columns=['Date', 'User', 'Tweet'])"
   ]
  },
  {
   "cell_type": "code",
   "execution_count": 10,
   "metadata": {},
   "outputs": [
    {
     "data": {
      "text/html": [
       "<div>\n",
       "<style scoped>\n",
       "    .dataframe tbody tr th:only-of-type {\n",
       "        vertical-align: middle;\n",
       "    }\n",
       "\n",
       "    .dataframe tbody tr th {\n",
       "        vertical-align: top;\n",
       "    }\n",
       "\n",
       "    .dataframe thead th {\n",
       "        text-align: right;\n",
       "    }\n",
       "</style>\n",
       "<table border=\"1\" class=\"dataframe\">\n",
       "  <thead>\n",
       "    <tr style=\"text-align: right;\">\n",
       "      <th></th>\n",
       "      <th>Date</th>\n",
       "      <th>User</th>\n",
       "      <th>Tweet</th>\n",
       "    </tr>\n",
       "  </thead>\n",
       "  <tbody>\n",
       "  </tbody>\n",
       "</table>\n",
       "</div>"
      ],
      "text/plain": [
       "Empty DataFrame\n",
       "Columns: [Date, User, Tweet]\n",
       "Index: []"
      ]
     },
     "execution_count": 10,
     "metadata": {},
     "output_type": "execute_result"
    }
   ],
   "source": [
    "handle = 'Sir_Kb' #'elonmusk'\n",
    "from_date = '2021-01-01'\n",
    "query = f\"(from:{handle}) until:{datetime.today().strftime('%Y-%m-%d')} since:{from_date}\"\n",
    "\n",
    "limit = 15000\n",
    "\n",
    "data = extract_tweets(query, limit)\n",
    "\n",
    "data"
   ]
  },
  {
   "cell_type": "code",
   "execution_count": 1,
   "metadata": {},
   "outputs": [
    {
     "data": {
      "text/plain": [
       "5"
      ]
     },
     "execution_count": 1,
     "metadata": {},
     "output_type": "execute_result"
    }
   ],
   "source": [
    "import numpy as np\n",
    "import pandas as pd\n",
    "\n",
    "import random\n",
    "\n",
    "items = [1,2,3,4,5]\n",
    "\n",
    "random.choice(items)"
   ]
  },
  {
   "cell_type": "code",
   "execution_count": 17,
   "metadata": {},
   "outputs": [
    {
     "data": {
      "text/html": [
       "<div>\n",
       "<style scoped>\n",
       "    .dataframe tbody tr th:only-of-type {\n",
       "        vertical-align: middle;\n",
       "    }\n",
       "\n",
       "    .dataframe tbody tr th {\n",
       "        vertical-align: top;\n",
       "    }\n",
       "\n",
       "    .dataframe thead th {\n",
       "        text-align: right;\n",
       "    }\n",
       "</style>\n",
       "<table border=\"1\" class=\"dataframe\">\n",
       "  <thead>\n",
       "    <tr style=\"text-align: right;\">\n",
       "      <th></th>\n",
       "      <th>Gender</th>\n",
       "      <th>Married</th>\n",
       "      <th>Dependents</th>\n",
       "      <th>Self_Employed</th>\n",
       "      <th>Income</th>\n",
       "      <th>Property_Area</th>\n",
       "      <th>unknown</th>\n",
       "      <th>Total_Amount_Spent</th>\n",
       "      <th>Prev_Credit_Duration</th>\n",
       "      <th>Credit_History</th>\n",
       "    </tr>\n",
       "  </thead>\n",
       "  <tbody>\n",
       "    <tr>\n",
       "      <th>0</th>\n",
       "      <td>Male</td>\n",
       "      <td>No</td>\n",
       "      <td>1</td>\n",
       "      <td>Grdauate</td>\n",
       "      <td>No</td>\n",
       "      <td>2105000</td>\n",
       "      <td>Urban</td>\n",
       "      <td>50000</td>\n",
       "      <td>18</td>\n",
       "      <td>1</td>\n",
       "    </tr>\n",
       "  </tbody>\n",
       "</table>\n",
       "</div>"
      ],
      "text/plain": [
       "  Gender Married  Dependents Self_Employed Income  Property_Area unknown  \\\n",
       "0   Male      No           1      Grdauate     No        2105000   Urban   \n",
       "\n",
       "   Total_Amount_Spent  Prev_Credit_Duration  Credit_History  \n",
       "0               50000                    18               1  "
      ]
     },
     "execution_count": 17,
     "metadata": {},
     "output_type": "execute_result"
    }
   ],
   "source": [
    "pd.DataFrame({'Gender':'Male', 'Married':'No', 'Dependents':1,'Self_Employed':'Grdauate', 'Income':'No','Property_Area': 2105000,'unknown':'Urban','Total_Amount_Spent':50000,'Prev_Credit_Duration':18,'Credit_History':1}, index=range(1))"
   ]
  },
  {
   "cell_type": "code",
   "execution_count": 8,
   "metadata": {},
   "outputs": [],
   "source": [
    "df = pd.DataFrame({\"Adm_grade\":range(10,100,10)})\n",
    "\n",
    "# df"
   ]
  },
  {
   "cell_type": "code",
   "execution_count": 7,
   "metadata": {},
   "outputs": [
    {
     "data": {
      "text/html": [
       "<div>\n",
       "<style scoped>\n",
       "    .dataframe tbody tr th:only-of-type {\n",
       "        vertical-align: middle;\n",
       "    }\n",
       "\n",
       "    .dataframe tbody tr th {\n",
       "        vertical-align: top;\n",
       "    }\n",
       "\n",
       "    .dataframe thead th {\n",
       "        text-align: right;\n",
       "    }\n",
       "</style>\n",
       "<table border=\"1\" class=\"dataframe\">\n",
       "  <thead>\n",
       "    <tr style=\"text-align: right;\">\n",
       "      <th></th>\n",
       "      <th>Adm_grade</th>\n",
       "      <th>Grade_Label</th>\n",
       "    </tr>\n",
       "  </thead>\n",
       "  <tbody>\n",
       "    <tr>\n",
       "      <th>0</th>\n",
       "      <td>10</td>\n",
       "      <td>F</td>\n",
       "    </tr>\n",
       "    <tr>\n",
       "      <th>1</th>\n",
       "      <td>20</td>\n",
       "      <td>F</td>\n",
       "    </tr>\n",
       "    <tr>\n",
       "      <th>2</th>\n",
       "      <td>30</td>\n",
       "      <td>E</td>\n",
       "    </tr>\n",
       "    <tr>\n",
       "      <th>3</th>\n",
       "      <td>40</td>\n",
       "      <td>D</td>\n",
       "    </tr>\n",
       "    <tr>\n",
       "      <th>4</th>\n",
       "      <td>50</td>\n",
       "      <td>C</td>\n",
       "    </tr>\n",
       "    <tr>\n",
       "      <th>5</th>\n",
       "      <td>60</td>\n",
       "      <td>Undefined</td>\n",
       "    </tr>\n",
       "    <tr>\n",
       "      <th>6</th>\n",
       "      <td>70</td>\n",
       "      <td>Undefined</td>\n",
       "    </tr>\n",
       "    <tr>\n",
       "      <th>7</th>\n",
       "      <td>80</td>\n",
       "      <td>Undefined</td>\n",
       "    </tr>\n",
       "    <tr>\n",
       "      <th>8</th>\n",
       "      <td>90</td>\n",
       "      <td>Undefined</td>\n",
       "    </tr>\n",
       "  </tbody>\n",
       "</table>\n",
       "</div>"
      ],
      "text/plain": [
       "   Adm_grade Grade_Label\n",
       "0         10           F\n",
       "1         20           F\n",
       "2         30           E\n",
       "3         40           D\n",
       "4         50           C\n",
       "5         60   Undefined\n",
       "6         70   Undefined\n",
       "7         80   Undefined\n",
       "8         90   Undefined"
      ]
     },
     "execution_count": 7,
     "metadata": {},
     "output_type": "execute_result"
    }
   ],
   "source": [
    "# df['Grade_Label'] = df.Adm_grade.map({10:\"A\"})\n",
    "def grade_threshold(grade):\n",
    "    if grade in range(0,30):\n",
    "        label = \"F\"\n",
    "    elif grade in range(30,40):\n",
    "        label = \"E\"\n",
    "    elif grade in range(40,50):\n",
    "        label = \"D\"\n",
    "    elif grade in range(50,60):\n",
    "        label = \"C\"\n",
    "    else: \n",
    "        label = 'Undefined'\n",
    "    return label\n",
    "\n",
    "df['Grade_Label'] = df.Adm_grade.map(grade_threshold)\n",
    "\n",
    "df"
   ]
  },
  {
   "cell_type": "code",
   "execution_count": 10,
   "metadata": {},
   "outputs": [
    {
     "name": "stdout",
     "output_type": "stream",
     "text": [
      "0    1.0\n",
      "1    2.0\n",
      "2    2.0\n",
      "3    4.0\n",
      "4    4.0\n",
      "dtype: float64\n"
     ]
    }
   ],
   "source": [
    "data = pd.Series([1, 2, np.nan, 4, np.nan])\n",
    "print(data.fillna(method = \"ffill\"))"
   ]
  }
 ],
 "metadata": {
  "kernelspec": {
   "display_name": "Python 3.9.9",
   "language": "python",
   "name": "python3"
  },
  "language_info": {
   "codemirror_mode": {
    "name": "ipython",
    "version": 3
   },
   "file_extension": ".py",
   "mimetype": "text/x-python",
   "name": "python",
   "nbconvert_exporter": "python",
   "pygments_lexer": "ipython3",
   "version": "3.9.9"
  },
  "orig_nbformat": 4,
  "vscode": {
   "interpreter": {
    "hash": "ef527e4ceab5acc2789dbf0b07f2b921d26fd3a67f16da09769014723871db63"
   }
  }
 },
 "nbformat": 4,
 "nbformat_minor": 2
}
