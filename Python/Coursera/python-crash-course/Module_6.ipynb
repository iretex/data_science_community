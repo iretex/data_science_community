{
 "cells": [
  {
   "cell_type": "markdown",
   "metadata": {},
   "source": [
    "Final Project Help\n",
    "\n",
    "Project goal \n",
    "\n",
    "Create a dictionary with words and word frequencies that can be passed to the generate_from_frequencies function of the WordCloud class.\n",
    "\n",
    "Once you have the dictionary, use this code to generate the word cloud image:\n",
    "\n",
    "```\n",
    "cloud = wordcloud.WordCloud()\n",
    "cloud.generate_from_frequencies(frequencies)\n",
    "cloud.to_file(\"myfile.jpg\")\n",
    "\n",
    "```\n",
    "\n",
    "Things to remember \n",
    "Before processing any text, you need to remove all the punctuation marks. To do this, you can go through each line of text, character-by-character, using the **isalpha()** method. This will check whether or not the character is a letter.\n",
    "\n",
    "To split a line of text into words, you can use the **split()** method.\n",
    "\n",
    "Before storing words in the frequency dictionary, check if they’re part of the \"uninteresting\" set of words (for example: \"a\", \"the\", \"to\", \"if\"). Make this set a parameter to your function so that you can change it if necessary.\n",
    "\n",
    "Input file\n",
    "For the input file, you need to provide a file that contains text only. For the text itself, you can copy and paste the contents of a website you like. Or you can use a site like [Project Gutenberg](https://www.gutenberg.org/) to find books that are available online. You could see what word clouds you can get from famous books, like a Shakespeare play or a novel by Jane Austen.\n",
    "\n",
    "Jupyter Notebooks Help\n",
    "Remember that if you need help with Jupyter Notebooks, you can check out [this help page](https://learner.coursera.help/hc/en-us/articles/360004995312-Solve-problems-with-Jupyter-Notebooks)."
   ]
  },
  {
   "cell_type": "markdown",
   "metadata": {},
   "source": []
  }
 ],
 "metadata": {
  "language_info": {
   "name": "python"
  },
  "orig_nbformat": 4
 },
 "nbformat": 4,
 "nbformat_minor": 2
}
