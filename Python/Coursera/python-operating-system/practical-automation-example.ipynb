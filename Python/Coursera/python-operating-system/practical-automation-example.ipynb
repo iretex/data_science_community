{
 "cells": [
  {
   "cell_type": "code",
   "execution_count": 1,
   "metadata": {},
   "outputs": [
    {
     "name": "stdout",
     "output_type": "stream",
     "text": [
      "usage(total=1000202039296, used=740023828480, free=260178210816)\n"
     ]
    },
    {
     "data": {
      "text/plain": [
       "26.012565521174945"
      ]
     },
     "execution_count": 1,
     "metadata": {},
     "output_type": "execute_result"
    }
   ],
   "source": [
    "import shutil\n",
    "\n",
    "du = shutil.disk_usage(\"/\")\n",
    "print(du)\n",
    "\n",
    "# usage(total=269490393088, used=3383894016, free=252345827328)\n",
    "\n",
    "du.free/du.total*100\n",
    "# 93.6381532701236"
   ]
  }
 ],
 "metadata": {
  "kernelspec": {
   "display_name": "Python 3",
   "language": "python",
   "name": "python3"
  },
  "language_info": {
   "codemirror_mode": {
    "name": "ipython",
    "version": 3
   },
   "file_extension": ".py",
   "mimetype": "text/x-python",
   "name": "python",
   "nbconvert_exporter": "python",
   "pygments_lexer": "ipython3",
   "version": "3.10.8"
  },
  "orig_nbformat": 4,
  "vscode": {
   "interpreter": {
    "hash": "620e5aca6dfc262dbbf3b8c44d5cccefd9ee684e03e6a97d0516e66a516bcd4e"
   }
  }
 },
 "nbformat": 4,
 "nbformat_minor": 2
}
