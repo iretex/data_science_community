{
 "cells": [
  {
   "cell_type": "markdown",
   "metadata": {},
   "source": [
    "https://www.hackerrank.com/challenges/stat-warmup/problem"
   ]
  },
  {
   "cell_type": "code",
   "execution_count": 34,
   "metadata": {},
   "outputs": [
    {
     "name": "stdout",
     "output_type": "stream",
     "text": [
      "43900.6\n",
      "44627.5\n",
      "4978\n",
      "30466.9\n",
      "25017.0 62784.2\n"
     ]
    }
   ],
   "source": [
    "# Enter your code here. Read input from STDIN. Print output to STDOUT\n",
    "import math\n",
    "\n",
    "with open(\"input00.txt\") as input_data:\n",
    "    size = int(input_data.readline())\n",
    "    arr = list(map(int,input_data.read().split(\" \")))\n",
    "\n",
    "# size = int(input())\n",
    "# arr = list(map(int,input().split(\" \")))\n",
    "\n",
    "def mean(arr):\n",
    "    if not (len(arr) > 0):\n",
    "        return float(\"NaN\")\n",
    "    return sum(arr)/size\n",
    "\n",
    "def median(arr):\n",
    "    if not (len(arr) > 1):\n",
    "        return float(\"NaN\")\n",
    "    if size%2 == 0:\n",
    "        index = round(size/2)\n",
    "        result = (arr[index]+arr[index-1])/2\n",
    "    else:\n",
    "        index = size//2\n",
    "        result = arr[index]\n",
    "    return result\n",
    "\n",
    "def mode(arr):\n",
    "    if not (len(arr) > 1):\n",
    "        return float(\"NaN\")\n",
    "    result = {}\n",
    "    for i in arr:\n",
    "        if i in result:\n",
    "            result[i]+=1\n",
    "        else:\n",
    "            result[i] = 1\n",
    "    # if sum(result.values())==len(arr):\n",
    "    #     return min(arr)\n",
    "    max_vals = dict(\n",
    "        filter(\n",
    "            lambda item: item[1]==max(result.values()), \n",
    "            result.items()\n",
    "            )\n",
    "        )\n",
    "    \n",
    "    return min(max_vals)#, key=max_vals.get)#max(result, key=result.get)\n",
    "\n",
    "def sd(arr):\n",
    "    if not (len(arr) > 1):\n",
    "        return float(\"NaN\")\n",
    "    return math.sqrt(sum([(i-mean(arr))**2 for i in arr])/size)\n",
    "\n",
    "\n",
    "def ci(arr):\n",
    "    if not (len(arr) > 1):\n",
    "        return float(\"NaN\")\n",
    "    print(\n",
    "        round(mean(arr)-(1.96*(sd(arr)/math.sqrt(len(arr)))),1), \n",
    "        round(mean(arr)+(1.96*(sd(arr)/math.sqrt(len(arr)))),1)\n",
    "        )\n",
    "\n",
    "print(round(mean(arr),1))\n",
    "print(round(median(sorted(arr)),1))\n",
    "print(round(mode(arr),1))\n",
    "print(round(sd(arr),1))\n",
    "ci(arr)\n"
   ]
  },
  {
   "cell_type": "code",
   "execution_count": 33,
   "metadata": {},
   "outputs": [
    {
     "data": {
      "text/plain": [
       "4978"
      ]
     },
     "execution_count": 33,
     "metadata": {},
     "output_type": "execute_result"
    }
   ],
   "source": [
    "# result = {1:5, 3:7, 6:10}\n",
    "# max(result, key=result.get)\n",
    "\n",
    "# size\n",
    "mode_arr = {}\n",
    "for i in arr:\n",
    "    if i not in mode_arr:\n",
    "        mode_arr[i]=1\n",
    "    else:\n",
    "        mode_arr[i]+=1\n",
    "\n",
    "# max(arr, key=mode_arr.get)\n",
    "# list(filter(lambda x: x == max(mode_arr.values()), mode_arr))\n",
    "# dict(sorted(mode_arr.items(), key=lambda item: item[1]))\n",
    "max_vals = dict(filter(lambda item: item[1]==max(mode_arr.values()), mode_arr.items()))\n",
    "min(max_vals)#, key=max_vals.get)\n",
    "# list(mode_arr.items()).sort(key = lambda item: item[1])\n",
    "\n",
    "# dict(filter(lambda item: item[1] == max(mode_arr.values), mode_arr.items()))\n",
    "\n"
   ]
  },
  {
   "cell_type": "code",
   "execution_count": 32,
   "metadata": {},
   "outputs": [
    {
     "data": {
      "text/plain": [
       "{64630: 1,\n",
       " 11735: 1,\n",
       " 14216: 1,\n",
       " 99233: 1,\n",
       " 14470: 1,\n",
       " 4978: 1,\n",
       " 73429: 1,\n",
       " 38120: 1,\n",
       " 51135: 1,\n",
       " 67060: 1}"
      ]
     },
     "execution_count": 32,
     "metadata": {},
     "output_type": "execute_result"
    }
   ],
   "source": [
    "# len(arr)\n",
    "# sum(mode_arr.values())\n",
    "mode_arr"
   ]
  }
 ],
 "metadata": {
  "kernelspec": {
   "display_name": "Python 3",
   "language": "python",
   "name": "python3"
  },
  "language_info": {
   "codemirror_mode": {
    "name": "ipython",
    "version": 3
   },
   "file_extension": ".py",
   "mimetype": "text/x-python",
   "name": "python",
   "nbconvert_exporter": "python",
   "pygments_lexer": "ipython3",
   "version": "3.10.8"
  },
  "orig_nbformat": 4,
  "vscode": {
   "interpreter": {
    "hash": "620e5aca6dfc262dbbf3b8c44d5cccefd9ee684e03e6a97d0516e66a516bcd4e"
   }
  }
 },
 "nbformat": 4,
 "nbformat_minor": 2
}
